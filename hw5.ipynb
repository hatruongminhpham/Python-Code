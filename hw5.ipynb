{
 "cells": [
  {
   "cell_type": "markdown",
   "metadata": {},
   "source": [
    "# Homework 5"
   ]
  },
  {
   "cell_type": "markdown",
   "metadata": {},
   "source": [
    "#### Instructions:\n",
    "- Please read these instructions as well as the questions carefully.\n",
    "- Your best resource is likely the official documentation of the datascience package: http://data8.org/datascience.\n",
    "- Feel free to use Excel to play with the data.\n",
    "- Please complete this notebook by filling in the cells provided. Before you begin, execute the following cell. Each time you start Jupyter Notebook, you will need to execute this cell.\n",
    "- Please be sure not to re-assign variables throughout the notebook. For example, if you use `max_price` in your answer to one question, do not re-assign it later on.\n",
    "- Please be sure not to re-define functions throughout the notebook. For example, if a question asks you to define `sharpe_ratio()`, the notebook that you submit should contain only one definition of that function."
   ]
  },
  {
   "cell_type": "code",
   "execution_count": 5,
   "metadata": {},
   "outputs": [],
   "source": [
    "# don't change this cell; just run it\n",
    "from datascience import *\n",
    "import numpy as np"
   ]
  },
  {
   "cell_type": "markdown",
   "metadata": {},
   "source": [
    "Below we load tables containing 200,000 weekday Uber rides in the Manila, Philippines, and Boston, Massachusetts metropolitan areas from the [Uber Movement](https://movement.uber.com) project. The `sourceid` and `dstid` columns contain codes corresponding to start and end locations of each ride. The `hod` column contains codes corresponding to the hour of the day the ride took place. The `ride time` table contains the length of the ride, in minutes."
   ]
  },
  {
   "cell_type": "code",
   "execution_count": 6,
   "metadata": {},
   "outputs": [
    {
     "name": "stdout",
     "output_type": "stream",
     "text": [
      "Boston Table\n"
     ]
    },
    {
     "data": {
      "text/html": [
       "<table border=\"1\" class=\"dataframe\">\n",
       "    <thead>\n",
       "        <tr>\n",
       "            <th>sourceid</th> <th>dstid</th> <th>hod</th> <th>ride time</th>\n",
       "        </tr>\n",
       "    </thead>\n",
       "    <tbody>\n",
       "        <tr>\n",
       "            <td>584     </td> <td>33   </td> <td>7   </td> <td>11.866   </td>\n",
       "        </tr>\n",
       "        <tr>\n",
       "            <td>1013    </td> <td>1116 </td> <td>13  </td> <td>17.7993  </td>\n",
       "        </tr>\n",
       "        <tr>\n",
       "            <td>884     </td> <td>1190 </td> <td>22  </td> <td>19.3488  </td>\n",
       "        </tr>\n",
       "        <tr>\n",
       "            <td>211     </td> <td>364  </td> <td>1   </td> <td>1.7235   </td>\n",
       "        </tr>\n",
       "        <tr>\n",
       "            <td>218     </td> <td>1189 </td> <td>7   </td> <td>42.5588  </td>\n",
       "        </tr>\n",
       "    </tbody>\n",
       "</table>\n",
       "<p>... (199995 rows omitted)</p>"
      ],
      "text/plain": [
       "<IPython.core.display.HTML object>"
      ]
     },
     "metadata": {},
     "output_type": "display_data"
    },
    {
     "name": "stdout",
     "output_type": "stream",
     "text": [
      "Manila Table\n"
     ]
    },
    {
     "data": {
      "text/html": [
       "<table border=\"1\" class=\"dataframe\">\n",
       "    <thead>\n",
       "        <tr>\n",
       "            <th>sourceid</th> <th>dstid</th> <th>hod</th> <th>ride time</th>\n",
       "        </tr>\n",
       "    </thead>\n",
       "    <tbody>\n",
       "        <tr>\n",
       "            <td>544     </td> <td>5    </td> <td>22  </td> <td>22.8115  </td>\n",
       "        </tr>\n",
       "        <tr>\n",
       "            <td>302     </td> <td>240  </td> <td>21  </td> <td>7.02267  </td>\n",
       "        </tr>\n",
       "        <tr>\n",
       "            <td>278     </td> <td>99   </td> <td>16  </td> <td>21.6437  </td>\n",
       "        </tr>\n",
       "        <tr>\n",
       "            <td>720     </td> <td>775  </td> <td>18  </td> <td>13.0597  </td>\n",
       "        </tr>\n",
       "        <tr>\n",
       "            <td>599     </td> <td>125  </td> <td>9   </td> <td>49.685   </td>\n",
       "        </tr>\n",
       "    </tbody>\n",
       "</table>\n",
       "<p>... (199995 rows omitted)</p>"
      ],
      "text/plain": [
       "<IPython.core.display.HTML object>"
      ]
     },
     "metadata": {},
     "output_type": "display_data"
    }
   ],
   "source": [
    "boston = Table.read_table('https://www.dropbox.com/s/dhuccab4wm2vrt6/boston.csv?raw=1')\n",
    "manila = Table.read_table('https://www.dropbox.com/s/p3hpq7hr3603bkg/manila.csv?raw=1')\n",
    "print(\"Boston Table\")\n",
    "boston.show(5)\n",
    "print(\"Manila Table\")\n",
    "manila.show(5)"
   ]
  },
  {
   "cell_type": "markdown",
   "metadata": {},
   "source": [
    "#### Question 1\n",
    "Set the variable below to estimate of what percentage of rides are less than 10 minutes in Boston. DO NOT ROUND YOUR ANSWER. Your solution should consist of only mathematical operations and numbers."
   ]
  },
  {
   "cell_type": "code",
   "execution_count": 7,
   "metadata": {},
   "outputs": [
    {
     "data": {
      "text/plain": [
       "22.829"
      ]
     },
     "execution_count": 7,
     "metadata": {},
     "output_type": "execute_result"
    }
   ],
   "source": [
    "boston_under_10 = (np.count_nonzero(boston.column('ride time') < 10)/ np.count_nonzero(boston.column('ride time')))*100\n",
    "boston_under_10"
   ]
  },
  {
   "cell_type": "code",
   "execution_count": null,
   "metadata": {},
   "outputs": [],
   "source": []
  },
  {
   "cell_type": "markdown",
   "metadata": {},
   "source": [
    "#### Question 2\n",
    "Set the variable below to estimate of what percentage of rides are less than 10 minutes in Manila. ROUND YOUR ANSWER TO THE NEAREST PERCENT. Your solution should consist of only mathematical operations and numbers."
   ]
  },
  {
   "cell_type": "code",
   "execution_count": 8,
   "metadata": {},
   "outputs": [
    {
     "data": {
      "text/plain": [
       "10.0"
      ]
     },
     "execution_count": 8,
     "metadata": {},
     "output_type": "execute_result"
    }
   ],
   "source": [
    "manila_under_10 = np.round((np.count_nonzero(manila.column('ride time') < 10)/ np.count_nonzero(manila.column('ride time')))*100)\n",
    "manila_under_10"
   ]
  },
  {
   "cell_type": "markdown",
   "metadata": {},
   "source": [
    "#### Question 3\n",
    "The `hod` column in each table represents the hour of the day during which the Uber was called. 0 corresponds to 12-1 AM, 1 to 1-2 AM, 13 to 1-2 PM, etc. Write a function which takes in a table like `boston` or `manila`, and an `hod` number between 0 and 23, and returns the average ride length from that hour in that city."
   ]
  },
  {
   "cell_type": "code",
   "execution_count": 52,
   "metadata": {},
   "outputs": [
    {
     "data": {
      "text/html": [
       "<table border=\"1\" class=\"dataframe\">\n",
       "    <thead>\n",
       "        <tr>\n",
       "            <th>sourceid</th> <th>dstid</th> <th>hod</th> <th>ride time</th>\n",
       "        </tr>\n",
       "    </thead>\n",
       "    <tbody>\n",
       "        <tr>\n",
       "            <td>729     </td> <td>1194 </td> <td>0   </td> <td>5.75     </td>\n",
       "        </tr>\n",
       "        <tr>\n",
       "            <td>318     </td> <td>887  </td> <td>0   </td> <td>27.6683  </td>\n",
       "        </tr>\n",
       "        <tr>\n",
       "            <td>654     </td> <td>188  </td> <td>0   </td> <td>3.65217  </td>\n",
       "        </tr>\n",
       "        <tr>\n",
       "            <td>540     </td> <td>1011 </td> <td>0   </td> <td>16.6595  </td>\n",
       "        </tr>\n",
       "        <tr>\n",
       "            <td>228     </td> <td>448  </td> <td>0   </td> <td>7.499    </td>\n",
       "        </tr>\n",
       "        <tr>\n",
       "            <td>842     </td> <td>995  </td> <td>0   </td> <td>16.1572  </td>\n",
       "        </tr>\n",
       "        <tr>\n",
       "            <td>33      </td> <td>425  </td> <td>0   </td> <td>19.1667  </td>\n",
       "        </tr>\n",
       "        <tr>\n",
       "            <td>255     </td> <td>890  </td> <td>0   </td> <td>5.31983  </td>\n",
       "        </tr>\n",
       "        <tr>\n",
       "            <td>1233    </td> <td>782  </td> <td>0   </td> <td>24.0537  </td>\n",
       "        </tr>\n",
       "        <tr>\n",
       "            <td>286     </td> <td>276  </td> <td>0   </td> <td>10.7595  </td>\n",
       "        </tr>\n",
       "    </tbody>\n",
       "</table>\n",
       "<p>... (7590 rows omitted)</p>"
      ],
      "text/plain": [
       "sourceid | dstid | hod  | ride time\n",
       "729      | 1194  | 0    | 5.75\n",
       "318      | 887   | 0    | 27.6683\n",
       "654      | 188   | 0    | 3.65217\n",
       "540      | 1011  | 0    | 16.6595\n",
       "228      | 448   | 0    | 7.499\n",
       "842      | 995   | 0    | 16.1572\n",
       "33       | 425   | 0    | 19.1667\n",
       "255      | 890   | 0    | 5.31983\n",
       "1233     | 782   | 0    | 24.0537\n",
       "286      | 276   | 0    | 10.7595\n",
       "... (7590 rows omitted)"
      ]
     },
     "execution_count": 52,
     "metadata": {},
     "output_type": "execute_result"
    }
   ],
   "source": []
  },
  {
   "cell_type": "code",
   "execution_count": 12,
   "metadata": {},
   "outputs": [
    {
     "data": {
      "text/plain": [
       "11.475439487531457"
      ]
     },
     "execution_count": 12,
     "metadata": {},
     "output_type": "execute_result"
    }
   ],
   "source": [
    "def avg_for_time(tbl, hod):\n",
    "    return np.average(tbl.where('hod',hod).column('ride time'))\n",
    "avg_for_time(boston, 4)"
   ]
  },
  {
   "cell_type": "markdown",
   "metadata": {},
   "source": [
    "#### Question 4\n",
    "Which city has a larger difference between Uber ride times at 10 AM vs. 10 PM? In other words, which is larger: the difference between 10 AM and 10 PM Uber ride times in Manila or the difference between 10 AM and 10 PM uber ride times in Boston. Use the function you just created to answer this question.\n",
    "\n",
    "Assign `larger_diff` to the number 1 if the answer is Manila, and 2 if the answer is Boston. "
   ]
  },
  {
   "cell_type": "code",
   "execution_count": 10,
   "metadata": {},
   "outputs": [
    {
     "data": {
      "text/plain": [
       "1"
      ]
     },
     "execution_count": 10,
     "metadata": {},
     "output_type": "execute_result"
    }
   ],
   "source": [
    "if (avg_for_time(boston, 10) - avg_for_time(boston, 22)) < (avg_for_time(manila, 10) - avg_for_time(manila, 22)):\n",
    "    larger_diff = 1\n",
    "else:\n",
    "    larger_diff = 0\n",
    "larger_diff"
   ]
  },
  {
   "cell_type": "markdown",
   "metadata": {},
   "source": [
    "#### Question 5\n",
    "Create table `boston_by_hod` that contains the number of rides in each `hod`, sorted in descending order."
   ]
  },
  {
   "cell_type": "code",
   "execution_count": 11,
   "metadata": {},
   "outputs": [
    {
     "data": {
      "text/html": [
       "<table border=\"1\" class=\"dataframe\">\n",
       "    <thead>\n",
       "        <tr>\n",
       "            <th>hod</th> <th>sourceid count_nonzero</th> <th>dstid count_nonzero</th> <th>ride time count_nonzero</th>\n",
       "        </tr>\n",
       "    </thead>\n",
       "    <tbody>\n",
       "        <tr>\n",
       "            <td>17  </td> <td>9952                  </td> <td>9952               </td> <td>9952                   </td>\n",
       "        </tr>\n",
       "        <tr>\n",
       "            <td>16  </td> <td>9930                  </td> <td>9930               </td> <td>9930                   </td>\n",
       "        </tr>\n",
       "        <tr>\n",
       "            <td>21  </td> <td>9894                  </td> <td>9894               </td> <td>9894                   </td>\n",
       "        </tr>\n",
       "        <tr>\n",
       "            <td>22  </td> <td>9863                  </td> <td>9863               </td> <td>9863                   </td>\n",
       "        </tr>\n",
       "        <tr>\n",
       "            <td>20  </td> <td>9771                  </td> <td>9771               </td> <td>9771                   </td>\n",
       "        </tr>\n",
       "        <tr>\n",
       "            <td>15  </td> <td>9748                  </td> <td>9748               </td> <td>9748                   </td>\n",
       "        </tr>\n",
       "        <tr>\n",
       "            <td>14  </td> <td>9688                  </td> <td>9688               </td> <td>9688                   </td>\n",
       "        </tr>\n",
       "        <tr>\n",
       "            <td>8   </td> <td>9510                  </td> <td>9510               </td> <td>9510                   </td>\n",
       "        </tr>\n",
       "        <tr>\n",
       "            <td>9   </td> <td>9259                  </td> <td>9259               </td> <td>9259                   </td>\n",
       "        </tr>\n",
       "        <tr>\n",
       "            <td>23  </td> <td>9258                  </td> <td>9258               </td> <td>9258                   </td>\n",
       "        </tr>\n",
       "        <tr>\n",
       "            <td>7   </td> <td>9173                  </td> <td>9173               </td> <td>9173                   </td>\n",
       "        </tr>\n",
       "        <tr>\n",
       "            <td>10  </td> <td>9053                  </td> <td>9053               </td> <td>9053                   </td>\n",
       "        </tr>\n",
       "        <tr>\n",
       "            <td>19  </td> <td>8926                  </td> <td>8926               </td> <td>8926                   </td>\n",
       "        </tr>\n",
       "        <tr>\n",
       "            <td>12  </td> <td>8885                  </td> <td>8885               </td> <td>8885                   </td>\n",
       "        </tr>\n",
       "        <tr>\n",
       "            <td>13  </td> <td>8813                  </td> <td>8813               </td> <td>8813                   </td>\n",
       "        </tr>\n",
       "        <tr>\n",
       "            <td>11  </td> <td>8755                  </td> <td>8755               </td> <td>8755                   </td>\n",
       "        </tr>\n",
       "        <tr>\n",
       "            <td>18  </td> <td>8365                  </td> <td>8365               </td> <td>8365                   </td>\n",
       "        </tr>\n",
       "        <tr>\n",
       "            <td>0   </td> <td>7600                  </td> <td>7600               </td> <td>7600                   </td>\n",
       "        </tr>\n",
       "        <tr>\n",
       "            <td>6   </td> <td>7424                  </td> <td>7424               </td> <td>7424                   </td>\n",
       "        </tr>\n",
       "        <tr>\n",
       "            <td>1   </td> <td>6568                  </td> <td>6568               </td> <td>6568                   </td>\n",
       "        </tr>\n",
       "        <tr>\n",
       "            <td>2   </td> <td>5555                  </td> <td>5555               </td> <td>5555                   </td>\n",
       "        </tr>\n",
       "        <tr>\n",
       "            <td>5   </td> <td>5343                  </td> <td>5343               </td> <td>5343                   </td>\n",
       "        </tr>\n",
       "        <tr>\n",
       "            <td>4   </td> <td>4371                  </td> <td>4371               </td> <td>4371                   </td>\n",
       "        </tr>\n",
       "        <tr>\n",
       "            <td>3   </td> <td>4296                  </td> <td>4296               </td> <td>4296                   </td>\n",
       "        </tr>\n",
       "    </tbody>\n",
       "</table>"
      ],
      "text/plain": [
       "<IPython.core.display.HTML object>"
      ]
     },
     "metadata": {},
     "output_type": "display_data"
    }
   ],
   "source": [
    "\n",
    "boston_by_hod = boston.where('ride time').group('hod',np.count_nonzero).sort('ride time count_nonzero',descending= True)\n",
    "boston_by_hod.show()"
   ]
  },
  {
   "cell_type": "markdown",
   "metadata": {},
   "source": [
    "## Submission\n",
    "Once you're finished, select \"Save and Checkpoint\" in the File menu. Pay attention to the name of your notebook---it's to the right of the \"jupyter\" logo at the upper left-hand corner of the page. On your computer your notebook has a file extension .ipynb. Locate and submit it on Gradescope."
   ]
  }
 ],
 "metadata": {
  "kernelspec": {
   "display_name": "Python 3 (ipykernel)",
   "language": "python",
   "name": "python3"
  },
  "language_info": {
   "codemirror_mode": {
    "name": "ipython",
    "version": 3
   },
   "file_extension": ".py",
   "mimetype": "text/x-python",
   "name": "python",
   "nbconvert_exporter": "python",
   "pygments_lexer": "ipython3",
   "version": "3.9.7"
  }
 },
 "nbformat": 4,
 "nbformat_minor": 1
}
