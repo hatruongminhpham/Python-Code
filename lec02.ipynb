{
 "cells": [
  {
   "cell_type": "code",
   "execution_count": null,
   "metadata": {},
   "outputs": [],
   "source": [
    "# Uncomment the following lines of code and run this cell to install the \"datascience\" package.\n",
    "\n",
    "#import sys\n",
    "#!\"{sys.executable}\" -m pip install datascience"
   ]
  },
  {
   "cell_type": "code",
   "execution_count": 2,
   "metadata": {},
   "outputs": [],
   "source": [
    "from datascience import *\n",
    "import numpy as np"
   ]
  },
  {
   "cell_type": "markdown",
   "metadata": {},
   "source": [
    "## Words of Caution ##\n",
    "- Remember to run the cell above. It's for setting up the environment so you can have access to what's needed for this notebook.\n",
    "- Data science is not just about code, so please don't go over this notebook by itself. Have the relevant lecture notes at hand so that you can go over the discussion along with the code. Thank you! "
   ]
  },
  {
   "cell_type": "markdown",
   "metadata": {},
   "source": [
    "## Python ##"
   ]
  },
  {
   "cell_type": "code",
   "execution_count": null,
   "metadata": {},
   "outputs": [],
   "source": [
    "2 + 3"
   ]
  },
  {
   "cell_type": "code",
   "execution_count": null,
   "metadata": {},
   "outputs": [],
   "source": [
    "2 - 3"
   ]
  },
  {
   "cell_type": "code",
   "execution_count": null,
   "metadata": {},
   "outputs": [],
   "source": [
    "2 * 3"
   ]
  },
  {
   "cell_type": "code",
   "execution_count": null,
   "metadata": {},
   "outputs": [],
   "source": [
    "2 / 3"
   ]
  },
  {
   "cell_type": "code",
   "execution_count": null,
   "metadata": {},
   "outputs": [],
   "source": [
    "# 2 * 2 * 2\n",
    "\n",
    "2 ** 3"
   ]
  },
  {
   "cell_type": "markdown",
   "metadata": {},
   "source": [
    "## Names ##"
   ]
  },
  {
   "cell_type": "code",
   "execution_count": null,
   "metadata": {},
   "outputs": [],
   "source": [
    "a = 10\n",
    "a"
   ]
  },
  {
   "cell_type": "code",
   "execution_count": null,
   "metadata": {},
   "outputs": [],
   "source": [
    "a"
   ]
  },
  {
   "cell_type": "code",
   "execution_count": null,
   "metadata": {},
   "outputs": [],
   "source": [
    "a = 12"
   ]
  },
  {
   "cell_type": "code",
   "execution_count": null,
   "metadata": {},
   "outputs": [],
   "source": [
    "a"
   ]
  },
  {
   "cell_type": "code",
   "execution_count": null,
   "metadata": {},
   "outputs": [],
   "source": [
    "b = 6"
   ]
  },
  {
   "cell_type": "code",
   "execution_count": null,
   "metadata": {},
   "outputs": [],
   "source": [
    "total = a + b"
   ]
  },
  {
   "cell_type": "code",
   "execution_count": null,
   "metadata": {},
   "outputs": [],
   "source": [
    "total"
   ]
  },
  {
   "cell_type": "code",
   "execution_count": null,
   "metadata": {},
   "outputs": [],
   "source": [
    "b = 7"
   ]
  },
  {
   "cell_type": "code",
   "execution_count": null,
   "metadata": {},
   "outputs": [],
   "source": [
    "total"
   ]
  },
  {
   "cell_type": "code",
   "execution_count": null,
   "metadata": {},
   "outputs": [],
   "source": [
    "total = a + b"
   ]
  },
  {
   "cell_type": "code",
   "execution_count": null,
   "metadata": {},
   "outputs": [],
   "source": [
    "total"
   ]
  },
  {
   "cell_type": "code",
   "execution_count": 3,
   "metadata": {},
   "outputs": [],
   "source": [
    "hours_per_week = 40\n",
    "weeks_per_year = 52"
   ]
  },
  {
   "cell_type": "code",
   "execution_count": null,
   "metadata": {},
   "outputs": [],
   "source": [
    "total_hours = hours_per_week * weeks_per_year"
   ]
  },
  {
   "cell_type": "code",
   "execution_count": null,
   "metadata": {},
   "outputs": [],
   "source": [
    "total_hours"
   ]
  },
  {
   "cell_type": "code",
   "execution_count": null,
   "metadata": {},
   "outputs": [],
   "source": [
    "hourly_minimum_wage = 10.50"
   ]
  },
  {
   "cell_type": "code",
   "execution_count": null,
   "metadata": {},
   "outputs": [],
   "source": [
    "total_wages = total_hours * hourly_minimum_wage\n",
    "total_wages"
   ]
  },
  {
   "cell_type": "markdown",
   "metadata": {},
   "source": [
    "## Functions ##"
   ]
  },
  {
   "cell_type": "code",
   "execution_count": null,
   "metadata": {},
   "outputs": [],
   "source": [
    "abs(-5)"
   ]
  },
  {
   "cell_type": "code",
   "execution_count": null,
   "metadata": {},
   "outputs": [],
   "source": [
    "a"
   ]
  },
  {
   "cell_type": "code",
   "execution_count": null,
   "metadata": {},
   "outputs": [],
   "source": [
    "2+3*5**6"
   ]
  },
  {
   "cell_type": "code",
   "execution_count": null,
   "metadata": {},
   "outputs": [],
   "source": [
    "print(a)\n",
    "print(b)\n",
    "abs(abs(b - a)-5)"
   ]
  },
  {
   "cell_type": "code",
   "execution_count": null,
   "metadata": {},
   "outputs": [],
   "source": [
    "min(8, 3)"
   ]
  },
  {
   "cell_type": "code",
   "execution_count": null,
   "metadata": {},
   "outputs": [],
   "source": [
    "round(123.56789)"
   ]
  },
  {
   "cell_type": "code",
   "execution_count": null,
   "metadata": {},
   "outputs": [],
   "source": [
    "round(123.56789, 2)"
   ]
  },
  {
   "cell_type": "markdown",
   "metadata": {},
   "source": [
    "## Tables ##"
   ]
  },
  {
   "cell_type": "code",
   "execution_count": 4,
   "metadata": {},
   "outputs": [
    {
     "data": {
      "text/html": [
       "<table border=\"1\" class=\"dataframe\">\n",
       "    <thead>\n",
       "        <tr>\n",
       "            <th>Firm</th> <th>Ticker</th> <th>Price</th> <th>PE</th>\n",
       "        </tr>\n",
       "    </thead>\n",
       "    <tbody>\n",
       "        <tr>\n",
       "            <td>Alphabet </td> <td>GOOG  </td> <td>1601.07</td> <td>35  </td>\n",
       "        </tr>\n",
       "        <tr>\n",
       "            <td>Amazon   </td> <td>AMZN  </td> <td>3313.74</td> <td>127 </td>\n",
       "        </tr>\n",
       "        <tr>\n",
       "            <td>Apple    </td> <td>AAPL  </td> <td>493.91 </td> <td>37  </td>\n",
       "        </tr>\n",
       "        <tr>\n",
       "            <td>Microsoft</td> <td>MSFT  </td> <td>215.69 </td> <td>37  </td>\n",
       "        </tr>\n",
       "    </tbody>\n",
       "</table>"
      ],
      "text/plain": [
       "Firm      | Ticker | Price   | PE\n",
       "Alphabet  | GOOG   | 1601.07 | 35\n",
       "Amazon    | AMZN   | 3313.74 | 127\n",
       "Apple     | AAPL   | 493.91  | 37\n",
       "Microsoft | MSFT   | 215.69  | 37"
      ]
     },
     "execution_count": 4,
     "metadata": {},
     "output_type": "execute_result"
    }
   ],
   "source": [
    "# Each row represents one mega growth company\n",
    "\n",
    "mega_growth = Table.read_table('https://www.dropbox.com/s/kaw56kq3iyyicvf/mega_growth.csv?raw=1')\n",
    "mega_growth"
   ]
  },
  {
   "cell_type": "code",
   "execution_count": 5,
   "metadata": {},
   "outputs": [
    {
     "data": {
      "text/html": [
       "<table border=\"1\" class=\"dataframe\">\n",
       "    <thead>\n",
       "        <tr>\n",
       "            <th>Firm</th> <th>Ticker</th> <th>Price</th> <th>PE</th>\n",
       "        </tr>\n",
       "    </thead>\n",
       "    <tbody>\n",
       "        <tr>\n",
       "            <td>Alphabet</td> <td>GOOG  </td> <td>1601.07</td> <td>35  </td>\n",
       "        </tr>\n",
       "        <tr>\n",
       "            <td>Amazon  </td> <td>AMZN  </td> <td>3313.74</td> <td>127 </td>\n",
       "        </tr>\n",
       "    </tbody>\n",
       "</table>\n",
       "<p>... (2 rows omitted)</p>"
      ],
      "text/plain": [
       "<IPython.core.display.HTML object>"
      ]
     },
     "metadata": {},
     "output_type": "display_data"
    }
   ],
   "source": [
    "mega_growth.show(2)"
   ]
  },
  {
   "cell_type": "code",
   "execution_count": 6,
   "metadata": {},
   "outputs": [
    {
     "data": {
      "text/html": [
       "<table border=\"1\" class=\"dataframe\">\n",
       "    <thead>\n",
       "        <tr>\n",
       "            <th>PE</th>\n",
       "        </tr>\n",
       "    </thead>\n",
       "    <tbody>\n",
       "        <tr>\n",
       "            <td>35  </td>\n",
       "        </tr>\n",
       "        <tr>\n",
       "            <td>127 </td>\n",
       "        </tr>\n",
       "        <tr>\n",
       "            <td>37  </td>\n",
       "        </tr>\n",
       "        <tr>\n",
       "            <td>37  </td>\n",
       "        </tr>\n",
       "    </tbody>\n",
       "</table>"
      ],
      "text/plain": [
       "PE\n",
       "35\n",
       "127\n",
       "37\n",
       "37"
      ]
     },
     "execution_count": 6,
     "metadata": {},
     "output_type": "execute_result"
    }
   ],
   "source": [
    "mega_growth.select('PE')"
   ]
  },
  {
   "cell_type": "code",
   "execution_count": null,
   "metadata": {},
   "outputs": [],
   "source": [
    "mega_growth"
   ]
  },
  {
   "cell_type": "code",
   "execution_count": 7,
   "metadata": {},
   "outputs": [
    {
     "data": {
      "text/html": [
       "<table border=\"1\" class=\"dataframe\">\n",
       "    <thead>\n",
       "        <tr>\n",
       "            <th>Ticker</th> <th>Price</th>\n",
       "        </tr>\n",
       "    </thead>\n",
       "    <tbody>\n",
       "        <tr>\n",
       "            <td>GOOG  </td> <td>1601.07</td>\n",
       "        </tr>\n",
       "        <tr>\n",
       "            <td>AMZN  </td> <td>3313.74</td>\n",
       "        </tr>\n",
       "        <tr>\n",
       "            <td>AAPL  </td> <td>493.91 </td>\n",
       "        </tr>\n",
       "        <tr>\n",
       "            <td>MSFT  </td> <td>215.69 </td>\n",
       "        </tr>\n",
       "    </tbody>\n",
       "</table>"
      ],
      "text/plain": [
       "Ticker | Price\n",
       "GOOG   | 1601.07\n",
       "AMZN   | 3313.74\n",
       "AAPL   | 493.91\n",
       "MSFT   | 215.69"
      ]
     },
     "execution_count": 7,
     "metadata": {},
     "output_type": "execute_result"
    }
   ],
   "source": [
    "mega_growth.select('Ticker', 'Price')"
   ]
  },
  {
   "cell_type": "code",
   "execution_count": 8,
   "metadata": {},
   "outputs": [
    {
     "data": {
      "text/html": [
       "<table border=\"1\" class=\"dataframe\">\n",
       "    <thead>\n",
       "        <tr>\n",
       "            <th>Firm</th> <th>Ticker</th> <th>Price</th> <th>PE</th>\n",
       "        </tr>\n",
       "    </thead>\n",
       "    <tbody>\n",
       "        <tr>\n",
       "            <td>Alphabet </td> <td>GOOG  </td> <td>1601.07</td> <td>35  </td>\n",
       "        </tr>\n",
       "        <tr>\n",
       "            <td>Amazon   </td> <td>AMZN  </td> <td>3313.74</td> <td>127 </td>\n",
       "        </tr>\n",
       "        <tr>\n",
       "            <td>Apple    </td> <td>AAPL  </td> <td>493.91 </td> <td>37  </td>\n",
       "        </tr>\n",
       "        <tr>\n",
       "            <td>Microsoft</td> <td>MSFT  </td> <td>215.69 </td> <td>37  </td>\n",
       "        </tr>\n",
       "    </tbody>\n",
       "</table>"
      ],
      "text/plain": [
       "Firm      | Ticker | Price   | PE\n",
       "Alphabet  | GOOG   | 1601.07 | 35\n",
       "Amazon    | AMZN   | 3313.74 | 127\n",
       "Apple     | AAPL   | 493.91  | 37\n",
       "Microsoft | MSFT   | 215.69  | 37"
      ]
     },
     "execution_count": 8,
     "metadata": {},
     "output_type": "execute_result"
    }
   ],
   "source": [
    "mega_growth"
   ]
  },
  {
   "cell_type": "code",
   "execution_count": 9,
   "metadata": {},
   "outputs": [
    {
     "data": {
      "text/html": [
       "<table border=\"1\" class=\"dataframe\">\n",
       "    <thead>\n",
       "        <tr>\n",
       "            <th>Firm</th> <th>Ticker</th> <th>PE</th>\n",
       "        </tr>\n",
       "    </thead>\n",
       "    <tbody>\n",
       "        <tr>\n",
       "            <td>Alphabet </td> <td>GOOG  </td> <td>35  </td>\n",
       "        </tr>\n",
       "        <tr>\n",
       "            <td>Amazon   </td> <td>AMZN  </td> <td>127 </td>\n",
       "        </tr>\n",
       "        <tr>\n",
       "            <td>Apple    </td> <td>AAPL  </td> <td>37  </td>\n",
       "        </tr>\n",
       "        <tr>\n",
       "            <td>Microsoft</td> <td>MSFT  </td> <td>37  </td>\n",
       "        </tr>\n",
       "    </tbody>\n",
       "</table>"
      ],
      "text/plain": [
       "Firm      | Ticker | PE\n",
       "Alphabet  | GOOG   | 35\n",
       "Amazon    | AMZN   | 127\n",
       "Apple     | AAPL   | 37\n",
       "Microsoft | MSFT   | 37"
      ]
     },
     "execution_count": 9,
     "metadata": {},
     "output_type": "execute_result"
    }
   ],
   "source": [
    "mega_growth.drop('Price')"
   ]
  },
  {
   "cell_type": "code",
   "execution_count": 10,
   "metadata": {},
   "outputs": [],
   "source": [
    "no_price = mega_growth.drop('Price')"
   ]
  },
  {
   "cell_type": "code",
   "execution_count": 11,
   "metadata": {},
   "outputs": [
    {
     "data": {
      "text/html": [
       "<table border=\"1\" class=\"dataframe\">\n",
       "    <thead>\n",
       "        <tr>\n",
       "            <th>Firm</th> <th>Ticker</th> <th>PE</th>\n",
       "        </tr>\n",
       "    </thead>\n",
       "    <tbody>\n",
       "        <tr>\n",
       "            <td>Alphabet </td> <td>GOOG  </td> <td>35  </td>\n",
       "        </tr>\n",
       "        <tr>\n",
       "            <td>Amazon   </td> <td>AMZN  </td> <td>127 </td>\n",
       "        </tr>\n",
       "        <tr>\n",
       "            <td>Apple    </td> <td>AAPL  </td> <td>37  </td>\n",
       "        </tr>\n",
       "        <tr>\n",
       "            <td>Microsoft</td> <td>MSFT  </td> <td>37  </td>\n",
       "        </tr>\n",
       "    </tbody>\n",
       "</table>"
      ],
      "text/plain": [
       "Firm      | Ticker | PE\n",
       "Alphabet  | GOOG   | 35\n",
       "Amazon    | AMZN   | 127\n",
       "Apple     | AAPL   | 37\n",
       "Microsoft | MSFT   | 37"
      ]
     },
     "execution_count": 11,
     "metadata": {},
     "output_type": "execute_result"
    }
   ],
   "source": [
    "no_price"
   ]
  },
  {
   "cell_type": "code",
   "execution_count": 12,
   "metadata": {},
   "outputs": [
    {
     "data": {
      "text/html": [
       "<table border=\"1\" class=\"dataframe\">\n",
       "    <thead>\n",
       "        <tr>\n",
       "            <th>Firm</th> <th>Ticker</th> <th>Price</th> <th>PE</th>\n",
       "        </tr>\n",
       "    </thead>\n",
       "    <tbody>\n",
       "        <tr>\n",
       "            <td>Amazon   </td> <td>AMZN  </td> <td>3313.74</td> <td>127 </td>\n",
       "        </tr>\n",
       "        <tr>\n",
       "            <td>Alphabet </td> <td>GOOG  </td> <td>1601.07</td> <td>35  </td>\n",
       "        </tr>\n",
       "        <tr>\n",
       "            <td>Apple    </td> <td>AAPL  </td> <td>493.91 </td> <td>37  </td>\n",
       "        </tr>\n",
       "        <tr>\n",
       "            <td>Microsoft</td> <td>MSFT  </td> <td>215.69 </td> <td>37  </td>\n",
       "        </tr>\n",
       "    </tbody>\n",
       "</table>"
      ],
      "text/plain": [
       "Firm      | Ticker | Price   | PE\n",
       "Amazon    | AMZN   | 3313.74 | 127\n",
       "Alphabet  | GOOG   | 1601.07 | 35\n",
       "Apple     | AAPL   | 493.91  | 37\n",
       "Microsoft | MSFT   | 215.69  | 37"
      ]
     },
     "execution_count": 12,
     "metadata": {},
     "output_type": "execute_result"
    }
   ],
   "source": [
    "mega_growth.sort('Price', 'PE')"
   ]
  },
  {
   "cell_type": "code",
   "execution_count": 13,
   "metadata": {},
   "outputs": [
    {
     "data": {
      "text/html": [
       "<table border=\"1\" class=\"dataframe\">\n",
       "    <thead>\n",
       "        <tr>\n",
       "            <th>Firm</th> <th>Ticker</th> <th>Price</th> <th>PE</th>\n",
       "        </tr>\n",
       "    </thead>\n",
       "    <tbody>\n",
       "        <tr>\n",
       "            <td>Amazon   </td> <td>AMZN  </td> <td>3313.74</td> <td>127 </td>\n",
       "        </tr>\n",
       "        <tr>\n",
       "            <td>Alphabet </td> <td>GOOG  </td> <td>1601.07</td> <td>35  </td>\n",
       "        </tr>\n",
       "        <tr>\n",
       "            <td>Apple    </td> <td>AAPL  </td> <td>493.91 </td> <td>37  </td>\n",
       "        </tr>\n",
       "        <tr>\n",
       "            <td>Microsoft</td> <td>MSFT  </td> <td>215.69 </td> <td>37  </td>\n",
       "        </tr>\n",
       "    </tbody>\n",
       "</table>"
      ],
      "text/plain": [
       "Firm      | Ticker | Price   | PE\n",
       "Amazon    | AMZN   | 3313.74 | 127\n",
       "Alphabet  | GOOG   | 1601.07 | 35\n",
       "Apple     | AAPL   | 493.91  | 37\n",
       "Microsoft | MSFT   | 215.69  | 37"
      ]
     },
     "execution_count": 13,
     "metadata": {},
     "output_type": "execute_result"
    }
   ],
   "source": [
    "mega_growth.sort('Price', descending=True)"
   ]
  },
  {
   "cell_type": "code",
   "execution_count": 14,
   "metadata": {},
   "outputs": [
    {
     "data": {
      "text/html": [
       "<table border=\"1\" class=\"dataframe\">\n",
       "    <thead>\n",
       "        <tr>\n",
       "            <th>Firm</th> <th>Ticker</th> <th>Price</th> <th>PE</th>\n",
       "        </tr>\n",
       "    </thead>\n",
       "    <tbody>\n",
       "        <tr>\n",
       "            <td>Amazon</td> <td>AMZN  </td> <td>3313.74</td> <td>127 </td>\n",
       "        </tr>\n",
       "    </tbody>\n",
       "</table>"
      ],
      "text/plain": [
       "Firm   | Ticker | Price   | PE\n",
       "Amazon | AMZN   | 3313.74 | 127"
      ]
     },
     "execution_count": 14,
     "metadata": {},
     "output_type": "execute_result"
    }
   ],
   "source": [
    "mega_growth.where('Ticker', 'AMZN')"
   ]
  },
  {
   "cell_type": "code",
   "execution_count": 15,
   "metadata": {},
   "outputs": [
    {
     "data": {
      "text/html": [
       "<table border=\"1\" class=\"dataframe\">\n",
       "    <thead>\n",
       "        <tr>\n",
       "            <th>Firm</th> <th>Ticker</th> <th>Price</th> <th>PE</th>\n",
       "        </tr>\n",
       "    </thead>\n",
       "    <tbody>\n",
       "        <tr>\n",
       "            <td>Apple    </td> <td>AAPL  </td> <td>493.91</td> <td>37  </td>\n",
       "        </tr>\n",
       "        <tr>\n",
       "            <td>Microsoft</td> <td>MSFT  </td> <td>215.69</td> <td>37  </td>\n",
       "        </tr>\n",
       "    </tbody>\n",
       "</table>"
      ],
      "text/plain": [
       "Firm      | Ticker | Price  | PE\n",
       "Apple     | AAPL   | 493.91 | 37\n",
       "Microsoft | MSFT   | 215.69 | 37"
      ]
     },
     "execution_count": 15,
     "metadata": {},
     "output_type": "execute_result"
    }
   ],
   "source": [
    "mega_growth.where('PE', 37)"
   ]
  },
  {
   "cell_type": "code",
   "execution_count": 16,
   "metadata": {},
   "outputs": [
    {
     "data": {
      "text/html": [
       "<table border=\"1\" class=\"dataframe\">\n",
       "    <thead>\n",
       "        <tr>\n",
       "            <th>Firm</th> <th>Ticker</th> <th>Price</th>\n",
       "        </tr>\n",
       "    </thead>\n",
       "    <tbody>\n",
       "        <tr>\n",
       "            <td>Amazon   </td> <td>AMZN  </td> <td>3313.74</td>\n",
       "        </tr>\n",
       "        <tr>\n",
       "            <td>Alphabet </td> <td>GOOG  </td> <td>1601.07</td>\n",
       "        </tr>\n",
       "        <tr>\n",
       "            <td>Apple    </td> <td>AAPL  </td> <td>493.91 </td>\n",
       "        </tr>\n",
       "        <tr>\n",
       "            <td>Microsoft</td> <td>MSFT  </td> <td>215.69 </td>\n",
       "        </tr>\n",
       "    </tbody>\n",
       "</table>"
      ],
      "text/plain": [
       "Firm      | Ticker | Price\n",
       "Amazon    | AMZN   | 3313.74\n",
       "Alphabet  | GOOG   | 1601.07\n",
       "Apple     | AAPL   | 493.91\n",
       "Microsoft | MSFT   | 215.69"
      ]
     },
     "execution_count": 16,
     "metadata": {},
     "output_type": "execute_result"
    }
   ],
   "source": [
    "mega_growth.drop('PE').sort('Price', descending=True)"
   ]
  },
  {
   "cell_type": "code",
   "execution_count": null,
   "metadata": {},
   "outputs": [],
   "source": []
  }
 ],
 "metadata": {
  "anaconda-cloud": {},
  "kernelspec": {
   "display_name": "Python 3 (ipykernel)",
   "language": "python",
   "name": "python3"
  },
  "language_info": {
   "codemirror_mode": {
    "name": "ipython",
    "version": 3
   },
   "file_extension": ".py",
   "mimetype": "text/x-python",
   "name": "python",
   "nbconvert_exporter": "python",
   "pygments_lexer": "ipython3",
   "version": "3.9.7"
  }
 },
 "nbformat": 4,
 "nbformat_minor": 1
}
