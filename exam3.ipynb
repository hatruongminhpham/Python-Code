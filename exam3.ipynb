{
 "cells": [
  {
   "cell_type": "markdown",
   "metadata": {},
   "source": [
    "# Midterm 3"
   ]
  },
  {
   "cell_type": "markdown",
   "metadata": {},
   "source": [
    "#### Instructions:\n",
    "- Please read these instructions as well as the questions carefully.\n",
    "- Your best resource is likely the official documentation of the datascience package: http://data8.org/datascience.\n",
    "- Feel free to use Excel to play with the data.\n",
    "- Please complete this notebook by filling in the cells provided. Before you begin, execute the following cell. Each time you start Jupyter Notebook, you will need to execute this cell.\n",
    "- Please be sure not to re-assign variables throughout the notebook. For example, if you use `max_price` in your answer to one question, do not re-assign it later on.\n",
    "- Please be sure not to re-define functions throughout the notebook. For example, if a question asks you to define `sharpe_ratio()`, the notebook that you submit should contain only one definition of that function."
   ]
  },
  {
   "cell_type": "code",
   "execution_count": 1,
   "metadata": {},
   "outputs": [],
   "source": [
    "# don't change this cell; just run it\n",
    "from datascience import *\n",
    "import numpy as np"
   ]
  },
  {
   "cell_type": "markdown",
   "metadata": {},
   "source": [
    "Let's start by loading some data. Just as a stock index fund can be used as a benchmark for an active stock fund, a bond index fund (VBMFX) can be used as a benchmark for an active municipal (tax-exempt) bond fund (VMATX), after some adjustments."
   ]
  },
  {
   "cell_type": "code",
   "execution_count": 2,
   "metadata": {},
   "outputs": [
    {
     "data": {
      "text/html": [
       "<table border=\"1\" class=\"dataframe\">\n",
       "    <thead>\n",
       "        <tr>\n",
       "            <th>Date</th> <th>VBMFX</th> <th>VMATX</th> <th>RF</th>\n",
       "        </tr>\n",
       "    </thead>\n",
       "    <tbody>\n",
       "        <tr>\n",
       "            <td>199901</td> <td>0.79 </td> <td>1.249  </td> <td>0.35</td>\n",
       "        </tr>\n",
       "        <tr>\n",
       "            <td>199902</td> <td>-1.77</td> <td>-0.5799</td> <td>0.35</td>\n",
       "        </tr>\n",
       "        <tr>\n",
       "            <td>199903</td> <td>0.56 </td> <td>-0.1431</td> <td>0.43</td>\n",
       "        </tr>\n",
       "        <tr>\n",
       "            <td>199904</td> <td>0.4  </td> <td>0.3532 </td> <td>0.37</td>\n",
       "        </tr>\n",
       "        <tr>\n",
       "            <td>199905</td> <td>-0.88</td> <td>-0.9548</td> <td>0.34</td>\n",
       "        </tr>\n",
       "        <tr>\n",
       "            <td>199906</td> <td>-0.5 </td> <td>-1.7755</td> <td>0.4 </td>\n",
       "        </tr>\n",
       "        <tr>\n",
       "            <td>199907</td> <td>-0.39</td> <td>0.3866 </td> <td>0.38</td>\n",
       "        </tr>\n",
       "        <tr>\n",
       "            <td>199908</td> <td>-0.08</td> <td>-1.2743</td> <td>0.39</td>\n",
       "        </tr>\n",
       "        <tr>\n",
       "            <td>199909</td> <td>1.26 </td> <td>-0.4563</td> <td>0.39</td>\n",
       "        </tr>\n",
       "        <tr>\n",
       "            <td>199910</td> <td>0.33 </td> <td>-1.5447</td> <td>0.39</td>\n",
       "        </tr>\n",
       "    </tbody>\n",
       "</table>\n",
       "<p>... (244 rows omitted)</p>"
      ],
      "text/plain": [
       "Date   | VBMFX | VMATX   | RF\n",
       "199901 | 0.79  | 1.249   | 0.35\n",
       "199902 | -1.77 | -0.5799 | 0.35\n",
       "199903 | 0.56  | -0.1431 | 0.43\n",
       "199904 | 0.4   | 0.3532  | 0.37\n",
       "199905 | -0.88 | -0.9548 | 0.34\n",
       "199906 | -0.5  | -1.7755 | 0.4\n",
       "199907 | -0.39 | 0.3866  | 0.38\n",
       "199908 | -0.08 | -1.2743 | 0.39\n",
       "199909 | 1.26  | -0.4563 | 0.39\n",
       "199910 | 0.33  | -1.5447 | 0.39\n",
       "... (244 rows omitted)"
      ]
     },
     "execution_count": 2,
     "metadata": {},
     "output_type": "execute_result"
    }
   ],
   "source": [
    "muni = Table.read_table('https://www.dropbox.com/s/36pkujkvtxm5yji/vanguard_muni.csv?raw=1')\n",
    "muni"
   ]
  },
  {
   "cell_type": "markdown",
   "metadata": {},
   "source": [
    "#### Question 1\n",
    "Find the number of rows in `muni`."
   ]
  },
  {
   "cell_type": "code",
   "execution_count": 4,
   "metadata": {},
   "outputs": [
    {
     "data": {
      "text/plain": [
       "254"
      ]
     },
     "execution_count": 4,
     "metadata": {},
     "output_type": "execute_result"
    }
   ],
   "source": [
    "n = muni.num_rows\n",
    "n"
   ]
  },
  {
   "cell_type": "markdown",
   "metadata": {},
   "source": [
    "Calculate the 10th percentile of VBMFX's returns."
   ]
  },
  {
   "cell_type": "code",
   "execution_count": 5,
   "metadata": {},
   "outputs": [
    {
     "data": {
      "text/plain": [
       "-0.787"
      ]
     },
     "execution_count": 5,
     "metadata": {},
     "output_type": "execute_result"
    }
   ],
   "source": [
    "VBMFX_p10 = np.percentile(muni.column('VBMFX'), 10)\n",
    "VBMFX_p10"
   ]
  },
  {
   "cell_type": "markdown",
   "metadata": {},
   "source": [
    "Calculate the *corr*elation *coef*ficient of VBMFX and VMATX. If the function you use returns the correlation matrix, you need to extract from it the number between -1 and 1. It is acceptable to just copy-and-paste."
   ]
  },
  {
   "cell_type": "code",
   "execution_count": 8,
   "metadata": {},
   "outputs": [
    {
     "data": {
      "text/plain": [
       "array([[1.      , 0.689348],\n",
       "       [0.689348, 1.      ]])"
      ]
     },
     "execution_count": 8,
     "metadata": {},
     "output_type": "execute_result"
    }
   ],
   "source": [
    "corrcoef = np.corrcoef(muni.column('VMATX'), muni.column('VBMFX'))\n",
    "corrcoef"
   ]
  },
  {
   "cell_type": "markdown",
   "metadata": {},
   "source": [
    "#### Question 2\n",
    "Create the array `VBMFX_crashes` that contains the 10 worst monthly returns for VBMFX, from the worst to the 10th worst."
   ]
  },
  {
   "cell_type": "code",
   "execution_count": null,
   "metadata": {},
   "outputs": [],
   "source": [
    "VBMFX_crashes = muni.column('VBMFX').sort(descen)\n",
    "VBMFX_crashes"
   ]
  },
  {
   "cell_type": "markdown",
   "metadata": {},
   "source": [
    "#### Question 3\n",
    "VMATX's returns in `muni` are after-tax returns for Massachusetts residents. On the other hand, VBMFX's returns are before tax. Suppose one's tax rate is 30%, so that 1% in after-tax return is equivalent to 1/(1-.3)=1/.7=1.43% before tax. Create the array `before_tax` that contains the before-tax returns of VMATX."
   ]
  },
  {
   "cell_type": "code",
   "execution_count": null,
   "metadata": {},
   "outputs": [],
   "source": [
    "before_tax = ...\n",
    "before_tax"
   ]
  },
  {
   "cell_type": "markdown",
   "metadata": {},
   "source": [
    "#### Question 4\n",
    "Create the Table `muni2` that contains before-tax, excess returns for both VBMFX and VMATX. Keep VBMFX and VMATX as column labels. Use this Table instead of `muni` henceforth."
   ]
  },
  {
   "cell_type": "code",
   "execution_count": null,
   "metadata": {},
   "outputs": [],
   "source": [
    "muni2 = ...\n",
    "muni2"
   ]
  },
  {
   "cell_type": "markdown",
   "metadata": {},
   "source": [
    "#### Question 5\n",
    "Calculate the mean and SD of excess returns for VBMFX."
   ]
  },
  {
   "cell_type": "code",
   "execution_count": 6,
   "metadata": {},
   "outputs": [
    {
     "data": {
      "text/plain": [
       "array([0.23956693, 0.99129052])"
      ]
     },
     "execution_count": 6,
     "metadata": {},
     "output_type": "execute_result"
    }
   ],
   "source": [
    "VBMFX_mean = np.mean(muni.column('VBMFX')-muni.column('RF'))\n",
    "VBMFX_sd = np.std(muni.column('VBMFX')-muni.column('RF'))\n",
    "make_array(VBMFX_mean, VBMFX_sd)"
   ]
  },
  {
   "cell_type": "markdown",
   "metadata": {},
   "source": [
    "#### Question 6\n",
    "Calculate the mean and SD of excess returns for VMATX."
   ]
  },
  {
   "cell_type": "code",
   "execution_count": 7,
   "metadata": {},
   "outputs": [
    {
     "data": {
      "text/plain": [
       "array([0.24005669, 0.24005669])"
      ]
     },
     "execution_count": 7,
     "metadata": {},
     "output_type": "execute_result"
    }
   ],
   "source": [
    "VMATX_mean = np.mean(muni.column('VMATX')-muni.column('RF'))\n",
    "VMATX_sd = np.mean(muni.column('VMATX')-muni.column('RF'))\n",
    "make_array(VMATX_mean, VMATX_sd)"
   ]
  },
  {
   "cell_type": "markdown",
   "metadata": {},
   "source": [
    "#### Question 7\n",
    "Calculate the Sharpe ratios of the funds."
   ]
  },
  {
   "cell_type": "code",
   "execution_count": null,
   "metadata": {},
   "outputs": [],
   "source": [
    "VBMFX_sr = ...\n",
    "VMATX_sr = ...\n",
    "make_array(VBMFX_sr, VMATX_sr)"
   ]
  },
  {
   "cell_type": "markdown",
   "metadata": {},
   "source": [
    "#### Question 8\n",
    "For a taxable Massachusetts investor, VMATX can be think of as a levered version of VBMFX: very roughly VMATX has twice the mean and SD as VBMFX. The main analysis of **Why *Not* 100% Equities** assumes that the levered 60/40 portfolio can borrow at the T-bill rate. In the endnotes, the author finds that assuming the borrow rate to be T-bill + $x$ basis points causes the levered 60/40 portfolio to have a 10.81% compound return. What's $x$?"
   ]
  },
  {
   "cell_type": "code",
   "execution_count": null,
   "metadata": {},
   "outputs": [],
   "source": [
    "x = ..."
   ]
  },
  {
   "cell_type": "markdown",
   "metadata": {},
   "source": [
    "Research the interest charged on margin loans by InteractiveBrokers, a broker known for very competitive pricing. Their \"Benchmark Rate\" is roughly the T-bill rate. Is Asness' relatively conservative assumption (T-bill + $x$ basis points) in the endnotes realistic for someone whose portfolio is less than $1 million? Assign `True` or `False` to `realistic` below. Recall that `True` and `False` are boolean values (no quotes)."
   ]
  },
  {
   "cell_type": "code",
   "execution_count": null,
   "metadata": {},
   "outputs": [],
   "source": [
    "realistic = ..."
   ]
  },
  {
   "cell_type": "markdown",
   "metadata": {},
   "source": [
    "#### Question 9\n",
    "The following code cell loads the 6 Fama-French portfolios formed on size and book-to-market. Calculate the array `SMB` that contains the SMB (Small Minus Big) factor according to the description at http://mba.tuck.dartmouth.edu/pages/faculty/ken.french/Data_Library/f-f_factors.html."
   ]
  },
  {
   "cell_type": "code",
   "execution_count": null,
   "metadata": {},
   "outputs": [],
   "source": [
    "two_by_three = Table.read_table('https://www.dropbox.com/s/ic0ofx6gibwl22k/6_Portfolios_2x3.CSV?raw=1')\n",
    "two_by_three"
   ]
  },
  {
   "cell_type": "code",
   "execution_count": null,
   "metadata": {},
   "outputs": [],
   "source": [
    "SMB = ...\n",
    "SMB"
   ]
  },
  {
   "cell_type": "markdown",
   "metadata": {},
   "source": [
    "#### Question 10\n",
    "The following code cell loads 2 Vanguard index funds. Find the minimum-risk mix of equities (VFINX) and bonds (VBMFX). In other words, approximate the value for w_e, the weight for equities, that gives the lowest SD among portfolios that invest in the two funds."
   ]
  },
  {
   "cell_type": "code",
   "execution_count": null,
   "metadata": {},
   "outputs": [],
   "source": [
    "vanguard = Table.read_table('https://www.dropbox.com/s/dsvvbmnc5rxxl3u/vanguard_stock_bond.csv?raw=1')\n",
    "vanguard"
   ]
  },
  {
   "cell_type": "code",
   "execution_count": null,
   "metadata": {},
   "outputs": [],
   "source": [
    "w_e_min = ...\n",
    "w_e_min"
   ]
  },
  {
   "cell_type": "markdown",
   "metadata": {},
   "source": [
    "## Submission\n",
    "\n",
    "Once you're finished, select \"Save and Checkpoint\" in the File menu. Pay attention to the name of your notebook---it's to the right of the \"jupyter\" logo at the upper left-hand corner of the page. On your computer your notebook has a file extension .ipynb. Locate and submit it on Gradescope."
   ]
  }
 ],
 "metadata": {
  "kernelspec": {
   "display_name": "Python 3 (ipykernel)",
   "language": "python",
   "name": "python3"
  },
  "language_info": {
   "codemirror_mode": {
    "name": "ipython",
    "version": 3
   },
   "file_extension": ".py",
   "mimetype": "text/x-python",
   "name": "python",
   "nbconvert_exporter": "python",
   "pygments_lexer": "ipython3",
   "version": "3.9.7"
  }
 },
 "nbformat": 4,
 "nbformat_minor": 4
}
