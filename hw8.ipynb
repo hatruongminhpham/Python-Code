{
 "cells": [
  {
   "cell_type": "markdown",
   "metadata": {},
   "source": [
    "# Homework 8"
   ]
  },
  {
   "cell_type": "markdown",
   "metadata": {},
   "source": [
    "#### Instructions:\n",
    "- Please read these instructions as well as the questions carefully.\n",
    "- Your best resource is likely the official documentation of the datascience package: http://data8.org/datascience.\n",
    "- Feel free to use Excel to play with the data.\n",
    "- Please complete this notebook by filling in the cells provided. Before you begin, execute the following cell. Each time you start Jupyter Notebook, you will need to execute this cell.\n",
    "- Please be sure not to re-assign variables throughout the notebook. For example, if you use `max_price` in your answer to one question, do not re-assign it later on.\n",
    "- Please be sure not to re-define functions throughout the notebook. For example, if a question asks you to define `sharpe_ratio()`, the notebook that you submit should contain only one definition of that function."
   ]
  },
  {
   "cell_type": "code",
   "execution_count": 15,
   "metadata": {},
   "outputs": [],
   "source": [
    "# don't change this cell; just run it\n",
    "from datascience import *\n",
    "import numpy as np"
   ]
  },
  {
   "cell_type": "markdown",
   "metadata": {},
   "source": [
    "Let's play with the Fama-French factor returns again."
   ]
  },
  {
   "cell_type": "code",
   "execution_count": 16,
   "metadata": {},
   "outputs": [
    {
     "data": {
      "text/html": [
       "<table border=\"1\" class=\"dataframe\">\n",
       "    <thead>\n",
       "        <tr>\n",
       "            <th>Date</th> <th>Mkt-RF</th> <th>SMB</th> <th>HML</th> <th>RF</th>\n",
       "        </tr>\n",
       "    </thead>\n",
       "    <tbody>\n",
       "        <tr>\n",
       "            <td>19260701</td> <td>0.1   </td> <td>-0.24</td> <td>-0.28</td> <td>0.009</td>\n",
       "        </tr>\n",
       "        <tr>\n",
       "            <td>19260702</td> <td>0.45  </td> <td>-0.32</td> <td>-0.08</td> <td>0.009</td>\n",
       "        </tr>\n",
       "        <tr>\n",
       "            <td>19260706</td> <td>0.17  </td> <td>0.27 </td> <td>-0.35</td> <td>0.009</td>\n",
       "        </tr>\n",
       "        <tr>\n",
       "            <td>19260707</td> <td>0.09  </td> <td>-0.59</td> <td>0.03 </td> <td>0.009</td>\n",
       "        </tr>\n",
       "        <tr>\n",
       "            <td>19260708</td> <td>0.21  </td> <td>-0.36</td> <td>0.15 </td> <td>0.009</td>\n",
       "        </tr>\n",
       "        <tr>\n",
       "            <td>19260709</td> <td>-0.71 </td> <td>0.44 </td> <td>0.56 </td> <td>0.009</td>\n",
       "        </tr>\n",
       "        <tr>\n",
       "            <td>19260710</td> <td>0.62  </td> <td>-0.5 </td> <td>-0.15</td> <td>0.009</td>\n",
       "        </tr>\n",
       "        <tr>\n",
       "            <td>19260712</td> <td>0.04  </td> <td>0.03 </td> <td>0.54 </td> <td>0.009</td>\n",
       "        </tr>\n",
       "        <tr>\n",
       "            <td>19260713</td> <td>0.48  </td> <td>-0.26</td> <td>-0.23</td> <td>0.009</td>\n",
       "        </tr>\n",
       "        <tr>\n",
       "            <td>19260714</td> <td>0.04  </td> <td>0.09 </td> <td>-0.48</td> <td>0.009</td>\n",
       "        </tr>\n",
       "    </tbody>\n",
       "</table>\n",
       "<p>... (24801 rows omitted)</p>"
      ],
      "text/plain": [
       "Date     | Mkt-RF | SMB   | HML   | RF\n",
       "19260701 | 0.1    | -0.24 | -0.28 | 0.009\n",
       "19260702 | 0.45   | -0.32 | -0.08 | 0.009\n",
       "19260706 | 0.17   | 0.27  | -0.35 | 0.009\n",
       "19260707 | 0.09   | -0.59 | 0.03  | 0.009\n",
       "19260708 | 0.21   | -0.36 | 0.15  | 0.009\n",
       "19260709 | -0.71  | 0.44  | 0.56  | 0.009\n",
       "19260710 | 0.62   | -0.5  | -0.15 | 0.009\n",
       "19260712 | 0.04   | 0.03  | 0.54  | 0.009\n",
       "19260713 | 0.48   | -0.26 | -0.23 | 0.009\n",
       "19260714 | 0.04   | 0.09  | -0.48 | 0.009\n",
       "... (24801 rows omitted)"
      ]
     },
     "execution_count": 16,
     "metadata": {},
     "output_type": "execute_result"
    }
   ],
   "source": [
    "ff_daily = Table.read_table('https://www.dropbox.com/s/syxf1wvej9ktqwr/F-F_Research_Data_Factors_daily.CSV?raw=1')\n",
    "ff_daily"
   ]
  },
  {
   "cell_type": "markdown",
   "metadata": {},
   "source": [
    "#### Question 1\n",
    "Compute the skewness of the value factor (HML). Feel free to use Google Search to find an appropriate function."
   ]
  },
  {
   "cell_type": "code",
   "execution_count": 23,
   "metadata": {},
   "outputs": [
    {
     "data": {
      "text/plain": [
       "0.6616036180826637"
      ]
     },
     "execution_count": 23,
     "metadata": {},
     "output_type": "execute_result"
    }
   ],
   "source": [
    "from scipy.stats import skew\n",
    "\n",
    "hml_skew = skew(ff_daily.column('HML'))\n",
    "hml_skew"
   ]
  },
  {
   "cell_type": "markdown",
   "metadata": {},
   "source": [
    "#### Question 2\n",
    "Describe in words what you found in Question 1. All else equal, would a typical investor prefer an investment strategy with positively skewed returns or one with negatively skewed returns? Why?"
   ]
  },
  {
   "cell_type": "markdown",
   "metadata": {},
   "source": [
    "*Write your answer here, replacing this text.*"
   ]
  },
  {
   "cell_type": "code",
   "execution_count": null,
   "metadata": {},
   "outputs": [],
   "source": [
    " positively skewed returns "
   ]
  },
  {
   "cell_type": "markdown",
   "metadata": {},
   "source": [
    "#### Question 3\n",
    "Investors are typically concerned about downside risk. Calculate the 25th percentile of the value factor."
   ]
  },
  {
   "cell_type": "code",
   "execution_count": 20,
   "metadata": {},
   "outputs": [
    {
     "data": {
      "text/plain": [
       "-0.24"
      ]
     },
     "execution_count": 20,
     "metadata": {},
     "output_type": "execute_result"
    }
   ],
   "source": [
    "hml_p25 = np.percentile(ff_daily.column('HML'), 25)\n",
    "hml_p25"
   ]
  },
  {
   "cell_type": "markdown",
   "metadata": {},
   "source": [
    "#### Question 4\n",
    "Like the standard deviation, the interquartile range (IQR) is a measure of spread. Use Google Search (or Bing!) to find the formula for the IQR and compute it for the value factor."
   ]
  },
  {
   "cell_type": "code",
   "execution_count": null,
   "metadata": {},
   "outputs": [],
   "source": [
    "hml_iqr = np.percentile(ff_daily.column('HML'), 75)-np.percentile(ff_daily.column('HML'), 25)\n",
    "hml_iqr"
   ]
  },
  {
   "cell_type": "markdown",
   "metadata": {},
   "source": [
    "#### Question 5\n",
    "Suppose one wants to compute the 95% confidence interval for the value factor's IQR using the bootstrap. According to Lecture 13, how many values should each resample have? "
   ]
  },
  {
   "cell_type": "code",
   "execution_count": 28,
   "metadata": {},
   "outputs": [
    {
     "data": {
      "text/plain": [
       "24811"
      ]
     },
     "execution_count": 28,
     "metadata": {},
     "output_type": "execute_result"
    }
   ],
   "source": [
    "resample_size = np.count_nonzero(ff_daily.column('Date'))\n",
    "resample_size"
   ]
  },
  {
   "cell_type": "code",
   "execution_count": null,
   "metadata": {},
   "outputs": [],
   "source": []
  }
 ],
 "metadata": {
  "kernelspec": {
   "display_name": "Python 3 (ipykernel)",
   "language": "python",
   "name": "python3"
  },
  "language_info": {
   "codemirror_mode": {
    "name": "ipython",
    "version": 3
   },
   "file_extension": ".py",
   "mimetype": "text/x-python",
   "name": "python",
   "nbconvert_exporter": "python",
   "pygments_lexer": "ipython3",
   "version": "3.9.7"
  }
 },
 "nbformat": 4,
 "nbformat_minor": 4
}
