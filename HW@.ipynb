{
 "cells": [
  {
   "cell_type": "markdown",
   "metadata": {},
   "source": [
    "# Homework 2"
   ]
  },
  {
   "cell_type": "markdown",
   "metadata": {},
   "source": [
    "**Instructions**:\n",
    "- Please read these instructions as well as the questions carefully.\n",
    "- Your best resource is likely the official documentation of the datascience package: http://data8.org/datascience.\n",
    "- Feel free to use Excel to play with the data.\n",
    "- Please complete this notebook by filling in the cells provided. Before you begin, execute the following cell. Each time you start Jupyter Notebook, you will need to execute this cell.\n",
    "- Please be sure not to re-assign variables throughout the notebook. For example, if you use `max_price` in your answer to one question, do not re-assign it later on.\n",
    "- Please be sure not to re-define functions throughout the notebook. For example, if a question asks you to define `sharpe_ratio()`, the notebook that you submit should contain only one definition of that function."
   ]
  },
  {
   "cell_type": "code",
   "execution_count": 14,
   "metadata": {},
   "outputs": [],
   "source": [
    "# Don't change this cell; just run it.\n",
    "from datascience import *\n",
    "import numpy as np\n",
    "\n"
   ]
  },
  {
   "cell_type": "markdown",
   "metadata": {},
   "source": [
    "#### Question 1\n",
    "Assign 250 to the name `trading_days_per_year`."
   ]
  },
  {
   "cell_type": "code",
   "execution_count": 2,
   "metadata": {},
   "outputs": [
    {
     "data": {
      "text/plain": [
       "250"
      ]
     },
     "execution_count": 2,
     "metadata": {},
     "output_type": "execute_result"
    }
   ],
   "source": [
    "trading_days_per_year = 250\n",
    "trading_days_per_year"
   ]
  },
  {
   "cell_type": "markdown",
   "metadata": {},
   "source": [
    "#### Question 2\n",
    "Calculate the max of integers 14 and 28, and save the result."
   ]
  },
  {
   "cell_type": "code",
   "execution_count": 1,
   "metadata": {},
   "outputs": [
    {
     "data": {
      "text/plain": [
       "28"
      ]
     },
     "execution_count": 1,
     "metadata": {},
     "output_type": "execute_result"
    }
   ],
   "source": [
    "max_14_28 = max(14,28)\n",
    "max_14_28"
   ]
  },
  {
   "cell_type": "markdown",
   "metadata": {},
   "source": [
    "#### Question 3\n",
    "Lecture 1 demo contains code that loads `msft.csv` from Dropbox to the Table `msft`. Copy and paste it below."
   ]
  },
  {
   "cell_type": "code",
   "execution_count": 16,
   "metadata": {},
   "outputs": [
    {
     "data": {
      "text/html": [
       "<table border=\"1\" class=\"dataframe\">\n",
       "    <thead>\n",
       "        <tr>\n",
       "            <th>PERMNO</th> <th>date</th> <th>NAMEENDT</th> <th>SHRCD</th> <th>EXCHCD</th> <th>SICCD</th> <th>NCUSIP</th> <th>TICKER</th> <th>COMNAM</th> <th>SHRCLS</th> <th>TSYMBOL</th> <th>NAICS</th> <th>PRIMEXCH</th> <th>TRDSTAT</th> <th>SECSTAT</th> <th>PERMCO</th> <th>ISSUNO</th> <th>HEXCD</th> <th>HSICCD</th> <th>CUSIP</th> <th>DCLRDT</th> <th>DLAMT</th> <th>DLPDT</th> <th>DLSTCD</th> <th>NEXTDT</th> <th>PAYDT</th> <th>RCRDDT</th> <th>SHRFLG</th> <th>HSICMG</th> <th>HSICIG</th> <th>DISTCD</th> <th>DIVAMT</th> <th>FACPR</th> <th>FACSHR</th> <th>ACPERM</th> <th>ACCOMP</th> <th>SHRENDDT</th> <th>NWPERM</th> <th>DLRETX</th> <th>DLPRC</th> <th>DLRET</th> <th>TRTSCD</th> <th>NMSIND</th> <th>MMCNT</th> <th>NSDINX</th> <th>BIDLO</th> <th>ASKHI</th> <th>PRC</th> <th>VOL</th> <th>RET</th> <th>BID</th> <th>ASK</th> <th>SHROUT</th> <th>CFACPR</th> <th>CFACSHR</th> <th>ALTPRC</th> <th>SPREAD</th> <th>ALTPRCDT</th> <th>RETX</th> <th>vwretd</th> <th>vwretx</th> <th>ewretd</th> <th>ewretx</th> <th>sprtrn</th>\n",
       "        </tr>\n",
       "    </thead>\n",
       "    <tbody>\n",
       "        <tr>\n",
       "            <td>10107 </td> <td>20070131</td> <td>nan     </td> <td>11   </td> <td>3     </td> <td>7370 </td> <td>59491810</td> <td>MSFT  </td> <td>MICROSOFT CORP</td> <td>nan   </td> <td>MSFT   </td> <td>511210</td> <td>Q       </td> <td>A      </td> <td>R      </td> <td>8048  </td> <td>10539 </td> <td>3    </td> <td>7370  </td> <td>59491810</td> <td>nan        </td> <td>nan  </td> <td>nan  </td> <td>nan   </td> <td>nan   </td> <td>nan        </td> <td>nan        </td> <td>0     </td> <td>nan   </td> <td>nan   </td> <td>nan   </td> <td>nan   </td> <td>nan  </td> <td>nan   </td> <td>nan   </td> <td>nan   </td> <td>2.00703e+07</td> <td>nan   </td> <td>nan   </td> <td>nan  </td> <td>nan  </td> <td>1     </td> <td>6     </td> <td>85   </td> <td>9     </td> <td>29.64  </td> <td>31.21  </td> <td>30.86  </td> <td>13390496</td> <td>0.03349  </td> <td>30.86</td> <td>30.87</td> <td>9792314</td> <td>1     </td> <td>1      </td> <td>30.86  </td> <td>nan   </td> <td>20070131</td> <td>0.03349  </td> <td>0.019397 </td> <td>0.018461 </td> <td>0.022283 </td> <td>0.021357 </td> <td>0.014059 </td>\n",
       "        </tr>\n",
       "        <tr>\n",
       "            <td>10107 </td> <td>20070228</td> <td>nan     </td> <td>11   </td> <td>3     </td> <td>7370 </td> <td>59491810</td> <td>MSFT  </td> <td>MICROSOFT CORP</td> <td>nan   </td> <td>MSFT   </td> <td>511210</td> <td>Q       </td> <td>A      </td> <td>R      </td> <td>8048  </td> <td>10539 </td> <td>3    </td> <td>7370  </td> <td>59491810</td> <td>2.00612e+07</td> <td>nan  </td> <td>nan  </td> <td>nan   </td> <td>nan   </td> <td>2.00703e+07</td> <td>2.00702e+07</td> <td>0     </td> <td>nan   </td> <td>nan   </td> <td>1232  </td> <td>0.1   </td> <td>0    </td> <td>0     </td> <td>nan   </td> <td>nan   </td> <td>nan        </td> <td>nan   </td> <td>nan   </td> <td>nan  </td> <td>nan  </td> <td>1     </td> <td>6     </td> <td>85   </td> <td>1     </td> <td>27.87  </td> <td>30.56  </td> <td>28.17  </td> <td>13007733</td> <td>-0.083927</td> <td>28.15</td> <td>28.16</td> <td>9792314</td> <td>1     </td> <td>1      </td> <td>28.17  </td> <td>nan   </td> <td>20070228</td> <td>-0.087168</td> <td>-0.013988</td> <td>-0.015979</td> <td>0.002111 </td> <td>0.000857 </td> <td>-0.021846</td>\n",
       "        </tr>\n",
       "        <tr>\n",
       "            <td>10107 </td> <td>20070330</td> <td>nan     </td> <td>11   </td> <td>3     </td> <td>7370 </td> <td>59491810</td> <td>MSFT  </td> <td>MICROSOFT CORP</td> <td>nan   </td> <td>MSFT   </td> <td>511210</td> <td>Q       </td> <td>A      </td> <td>R      </td> <td>8048  </td> <td>10539 </td> <td>3    </td> <td>7370  </td> <td>59491810</td> <td>nan        </td> <td>nan  </td> <td>nan  </td> <td>nan   </td> <td>nan   </td> <td>nan        </td> <td>nan        </td> <td>0     </td> <td>nan   </td> <td>nan   </td> <td>nan   </td> <td>nan   </td> <td>nan  </td> <td>nan   </td> <td>nan   </td> <td>nan   </td> <td>2.00704e+07</td> <td>nan   </td> <td>nan   </td> <td>nan  </td> <td>nan  </td> <td>1     </td> <td>6     </td> <td>88   </td> <td>1     </td> <td>26.72  </td> <td>28.52  </td> <td>27.87  </td> <td>12832900</td> <td>-0.01065 </td> <td>27.86</td> <td>27.87</td> <td>9572000</td> <td>1     </td> <td>1      </td> <td>27.87  </td> <td>nan   </td> <td>20070330</td> <td>-0.01065 </td> <td>0.01295  </td> <td>0.011475 </td> <td>0.006545 </td> <td>0.004805 </td> <td>0.00998  </td>\n",
       "        </tr>\n",
       "        <tr>\n",
       "            <td>10107 </td> <td>20070430</td> <td>nan     </td> <td>11   </td> <td>3     </td> <td>7370 </td> <td>59491810</td> <td>MSFT  </td> <td>MICROSOFT CORP</td> <td>nan   </td> <td>MSFT   </td> <td>511210</td> <td>Q       </td> <td>A      </td> <td>R      </td> <td>8048  </td> <td>10539 </td> <td>3    </td> <td>7370  </td> <td>59491810</td> <td>nan        </td> <td>nan  </td> <td>nan  </td> <td>nan   </td> <td>nan   </td> <td>nan        </td> <td>nan        </td> <td>0     </td> <td>nan   </td> <td>nan   </td> <td>nan   </td> <td>nan   </td> <td>nan  </td> <td>nan   </td> <td>nan   </td> <td>nan   </td> <td>2.00706e+07</td> <td>nan   </td> <td>nan   </td> <td>nan  </td> <td>nan  </td> <td>1     </td> <td>6     </td> <td>90   </td> <td>55    </td> <td>27.74  </td> <td>30.12  </td> <td>29.94  </td> <td>9676052 </td> <td>0.074273 </td> <td>29.94</td> <td>29.95</td> <td>9566808</td> <td>1     </td> <td>1      </td> <td>29.94  </td> <td>nan   </td> <td>20070430</td> <td>0.074273 </td> <td>0.039815 </td> <td>0.038449 </td> <td>0.027044 </td> <td>0.025768 </td> <td>0.043291 </td>\n",
       "        </tr>\n",
       "        <tr>\n",
       "            <td>10107 </td> <td>20070531</td> <td>nan     </td> <td>11   </td> <td>3     </td> <td>7370 </td> <td>59491810</td> <td>MSFT  </td> <td>MICROSOFT CORP</td> <td>nan   </td> <td>MSFT   </td> <td>511210</td> <td>Q       </td> <td>A      </td> <td>R      </td> <td>8048  </td> <td>10539 </td> <td>3    </td> <td>7370  </td> <td>59491810</td> <td>2.00703e+07</td> <td>nan  </td> <td>nan  </td> <td>nan   </td> <td>nan   </td> <td>2.00706e+07</td> <td>2.00705e+07</td> <td>0     </td> <td>nan   </td> <td>nan   </td> <td>1232  </td> <td>0.1   </td> <td>0    </td> <td>0     </td> <td>nan   </td> <td>nan   </td> <td>nan        </td> <td>nan   </td> <td>nan   </td> <td>nan  </td> <td>nan  </td> <td>1     </td> <td>6     </td> <td>88   </td> <td>55    </td> <td>30.17  </td> <td>31.11  </td> <td>30.6901</td> <td>13176580</td> <td>0.028393 </td> <td>30.68</td> <td>30.7 </td> <td>9566808</td> <td>1     </td> <td>1      </td> <td>30.6901</td> <td>nan   </td> <td>20070531</td> <td>0.025053 </td> <td>0.038932 </td> <td>0.036643 </td> <td>0.023123 </td> <td>0.021362 </td> <td>0.032549 </td>\n",
       "        </tr>\n",
       "        <tr>\n",
       "            <td>10107 </td> <td>20070629</td> <td>nan     </td> <td>11   </td> <td>3     </td> <td>7370 </td> <td>59491810</td> <td>MSFT  </td> <td>MICROSOFT CORP</td> <td>nan   </td> <td>MSFT   </td> <td>511210</td> <td>Q       </td> <td>A      </td> <td>R      </td> <td>8048  </td> <td>10539 </td> <td>3    </td> <td>7370  </td> <td>59491810</td> <td>nan        </td> <td>nan  </td> <td>nan  </td> <td>nan   </td> <td>nan   </td> <td>nan        </td> <td>nan        </td> <td>0     </td> <td>nan   </td> <td>nan   </td> <td>nan   </td> <td>nan   </td> <td>nan  </td> <td>nan   </td> <td>nan   </td> <td>nan   </td> <td>2.00707e+07</td> <td>nan   </td> <td>nan   </td> <td>nan  </td> <td>nan  </td> <td>1     </td> <td>6     </td> <td>88   </td> <td>55    </td> <td>29.47  </td> <td>30.715 </td> <td>29.47  </td> <td>11884314</td> <td>-0.039756</td> <td>29.45</td> <td>29.47</td> <td>9380000</td> <td>1     </td> <td>1      </td> <td>29.47  </td> <td>nan   </td> <td>20070629</td> <td>-0.039756</td> <td>-0.014765</td> <td>-0.016128</td> <td>-0.007907</td> <td>-0.009857</td> <td>-0.017816</td>\n",
       "        </tr>\n",
       "        <tr>\n",
       "            <td>10107 </td> <td>20070731</td> <td>nan     </td> <td>11   </td> <td>3     </td> <td>7370 </td> <td>59491810</td> <td>MSFT  </td> <td>MICROSOFT CORP</td> <td>nan   </td> <td>MSFT   </td> <td>511210</td> <td>Q       </td> <td>A      </td> <td>R      </td> <td>8048  </td> <td>10539 </td> <td>3    </td> <td>7370  </td> <td>59491810</td> <td>nan        </td> <td>nan  </td> <td>nan  </td> <td>nan   </td> <td>nan   </td> <td>nan        </td> <td>nan        </td> <td>0     </td> <td>nan   </td> <td>nan   </td> <td>nan   </td> <td>nan   </td> <td>nan  </td> <td>nan   </td> <td>nan   </td> <td>nan   </td> <td>nan        </td> <td>nan   </td> <td>nan   </td> <td>nan  </td> <td>nan  </td> <td>1     </td> <td>6     </td> <td>89   </td> <td>55    </td> <td>28.99  </td> <td>31.51  </td> <td>28.99  </td> <td>13008446</td> <td>-0.016288</td> <td>28.98</td> <td>28.99</td> <td>9380000</td> <td>1     </td> <td>1      </td> <td>28.99  </td> <td>nan   </td> <td>20070731</td> <td>-0.016288</td> <td>-0.03176 </td> <td>-0.032764</td> <td>-0.043537</td> <td>-0.044642</td> <td>-0.031982</td>\n",
       "        </tr>\n",
       "        <tr>\n",
       "            <td>10107 </td> <td>20070831</td> <td>nan     </td> <td>11   </td> <td>3     </td> <td>7370 </td> <td>59491810</td> <td>MSFT  </td> <td>MICROSOFT CORP</td> <td>nan   </td> <td>MSFT   </td> <td>511210</td> <td>Q       </td> <td>A      </td> <td>R      </td> <td>8048  </td> <td>10539 </td> <td>3    </td> <td>7370  </td> <td>59491810</td> <td>2.00706e+07</td> <td>nan  </td> <td>nan  </td> <td>nan   </td> <td>nan   </td> <td>2.00709e+07</td> <td>2.00708e+07</td> <td>0     </td> <td>nan   </td> <td>nan   </td> <td>1232  </td> <td>0.1   </td> <td>0    </td> <td>0     </td> <td>nan   </td> <td>nan   </td> <td>2.00709e+07</td> <td>nan   </td> <td>nan   </td> <td>nan  </td> <td>nan  </td> <td>1     </td> <td>6     </td> <td>86   </td> <td>55    </td> <td>27.81  </td> <td>30     </td> <td>28.73  </td> <td>12397224</td> <td>-0.005519</td> <td>28.68</td> <td>28.69</td> <td>9375492</td> <td>1     </td> <td>1      </td> <td>28.73  </td> <td>nan   </td> <td>20070831</td> <td>-0.008969</td> <td>0.01163  </td> <td>0.009677 </td> <td>-0.011712</td> <td>-0.013287</td> <td>0.012864 </td>\n",
       "        </tr>\n",
       "        <tr>\n",
       "            <td>10107 </td> <td>20070928</td> <td>nan     </td> <td>11   </td> <td>3     </td> <td>7370 </td> <td>59491810</td> <td>MSFT  </td> <td>MICROSOFT CORP</td> <td>nan   </td> <td>MSFT   </td> <td>511210</td> <td>Q       </td> <td>A      </td> <td>R      </td> <td>8048  </td> <td>10539 </td> <td>3    </td> <td>7370  </td> <td>59491810</td> <td>nan        </td> <td>nan  </td> <td>nan  </td> <td>nan   </td> <td>nan   </td> <td>nan        </td> <td>nan        </td> <td>0     </td> <td>nan   </td> <td>nan   </td> <td>nan   </td> <td>nan   </td> <td>nan  </td> <td>nan   </td> <td>nan   </td> <td>nan   </td> <td>2.0071e+07 </td> <td>nan   </td> <td>nan   </td> <td>nan  </td> <td>nan  </td> <td>1     </td> <td>6     </td> <td>87   </td> <td>55    </td> <td>28.4201</td> <td>29.5599</td> <td>29.46  </td> <td>11168623</td> <td>0.025409 </td> <td>29.46</td> <td>29.47</td> <td>9355000</td> <td>1     </td> <td>1      </td> <td>29.46  </td> <td>nan   </td> <td>20070928</td> <td>0.025409 </td> <td>0.040842 </td> <td>0.039325 </td> <td>0.025364 </td> <td>0.023661 </td> <td>0.035794 </td>\n",
       "        </tr>\n",
       "        <tr>\n",
       "            <td>10107 </td> <td>20071031</td> <td>nan     </td> <td>11   </td> <td>3     </td> <td>7370 </td> <td>59491810</td> <td>MSFT  </td> <td>MICROSOFT CORP</td> <td>nan   </td> <td>MSFT   </td> <td>511210</td> <td>Q       </td> <td>A      </td> <td>R      </td> <td>8048  </td> <td>10539 </td> <td>3    </td> <td>7370  </td> <td>59491810</td> <td>nan        </td> <td>nan  </td> <td>nan  </td> <td>nan   </td> <td>nan   </td> <td>nan        </td> <td>nan        </td> <td>0     </td> <td>nan   </td> <td>nan   </td> <td>nan   </td> <td>nan   </td> <td>nan  </td> <td>nan   </td> <td>nan   </td> <td>nan   </td> <td>2.00712e+07</td> <td>nan   </td> <td>nan   </td> <td>nan  </td> <td>nan  </td> <td>1     </td> <td>6     </td> <td>84   </td> <td>55    </td> <td>29.4525</td> <td>36.81  </td> <td>36.81  </td> <td>17744802</td> <td>0.249491 </td> <td>36.79</td> <td>36.8 </td> <td>9355439</td> <td>1     </td> <td>1      </td> <td>36.81  </td> <td>nan   </td> <td>20071031</td> <td>0.249491 </td> <td>0.025796 </td> <td>0.024655 </td> <td>0.017406 </td> <td>0.016144 </td> <td>0.014822 </td>\n",
       "        </tr>\n",
       "    </tbody>\n",
       "</table>\n",
       "<p>... (134 rows omitted)</p>"
      ],
      "text/plain": [
       "PERMNO | date     | NAMEENDT | SHRCD | EXCHCD | SICCD | NCUSIP   | TICKER | COMNAM         | SHRCLS | TSYMBOL | NAICS  | PRIMEXCH | TRDSTAT | SECSTAT | PERMCO | ISSUNO | HEXCD | HSICCD | CUSIP    | DCLRDT      | DLAMT | DLPDT | DLSTCD | NEXTDT | PAYDT       | RCRDDT      | SHRFLG | HSICMG | HSICIG | DISTCD | DIVAMT | FACPR | FACSHR | ACPERM | ACCOMP | SHRENDDT    | NWPERM | DLRETX | DLPRC | DLRET | TRTSCD | NMSIND | MMCNT | NSDINX | BIDLO   | ASKHI   | PRC     | VOL      | RET       | BID   | ASK   | SHROUT  | CFACPR | CFACSHR | ALTPRC  | SPREAD | ALTPRCDT | RETX      | vwretd    | vwretx    | ewretd    | ewretx    | sprtrn\n",
       "10107  | 20070131 | nan      | 11    | 3      | 7370  | 59491810 | MSFT   | MICROSOFT CORP | nan    | MSFT    | 511210 | Q        | A       | R       | 8048   | 10539  | 3     | 7370   | 59491810 | nan         | nan   | nan   | nan    | nan    | nan         | nan         | 0      | nan    | nan    | nan    | nan    | nan   | nan    | nan    | nan    | 2.00703e+07 | nan    | nan    | nan   | nan   | 1      | 6      | 85    | 9      | 29.64   | 31.21   | 30.86   | 13390496 | 0.03349   | 30.86 | 30.87 | 9792314 | 1      | 1       | 30.86   | nan    | 20070131 | 0.03349   | 0.019397  | 0.018461  | 0.022283  | 0.021357  | 0.014059\n",
       "10107  | 20070228 | nan      | 11    | 3      | 7370  | 59491810 | MSFT   | MICROSOFT CORP | nan    | MSFT    | 511210 | Q        | A       | R       | 8048   | 10539  | 3     | 7370   | 59491810 | 2.00612e+07 | nan   | nan   | nan    | nan    | 2.00703e+07 | 2.00702e+07 | 0      | nan    | nan    | 1232   | 0.1    | 0     | 0      | nan    | nan    | nan         | nan    | nan    | nan   | nan   | 1      | 6      | 85    | 1      | 27.87   | 30.56   | 28.17   | 13007733 | -0.083927 | 28.15 | 28.16 | 9792314 | 1      | 1       | 28.17   | nan    | 20070228 | -0.087168 | -0.013988 | -0.015979 | 0.002111  | 0.000857  | -0.021846\n",
       "10107  | 20070330 | nan      | 11    | 3      | 7370  | 59491810 | MSFT   | MICROSOFT CORP | nan    | MSFT    | 511210 | Q        | A       | R       | 8048   | 10539  | 3     | 7370   | 59491810 | nan         | nan   | nan   | nan    | nan    | nan         | nan         | 0      | nan    | nan    | nan    | nan    | nan   | nan    | nan    | nan    | 2.00704e+07 | nan    | nan    | nan   | nan   | 1      | 6      | 88    | 1      | 26.72   | 28.52   | 27.87   | 12832900 | -0.01065  | 27.86 | 27.87 | 9572000 | 1      | 1       | 27.87   | nan    | 20070330 | -0.01065  | 0.01295   | 0.011475  | 0.006545  | 0.004805  | 0.00998\n",
       "10107  | 20070430 | nan      | 11    | 3      | 7370  | 59491810 | MSFT   | MICROSOFT CORP | nan    | MSFT    | 511210 | Q        | A       | R       | 8048   | 10539  | 3     | 7370   | 59491810 | nan         | nan   | nan   | nan    | nan    | nan         | nan         | 0      | nan    | nan    | nan    | nan    | nan   | nan    | nan    | nan    | 2.00706e+07 | nan    | nan    | nan   | nan   | 1      | 6      | 90    | 55     | 27.74   | 30.12   | 29.94   | 9676052  | 0.074273  | 29.94 | 29.95 | 9566808 | 1      | 1       | 29.94   | nan    | 20070430 | 0.074273  | 0.039815  | 0.038449  | 0.027044  | 0.025768  | 0.043291\n",
       "10107  | 20070531 | nan      | 11    | 3      | 7370  | 59491810 | MSFT   | MICROSOFT CORP | nan    | MSFT    | 511210 | Q        | A       | R       | 8048   | 10539  | 3     | 7370   | 59491810 | 2.00703e+07 | nan   | nan   | nan    | nan    | 2.00706e+07 | 2.00705e+07 | 0      | nan    | nan    | 1232   | 0.1    | 0     | 0      | nan    | nan    | nan         | nan    | nan    | nan   | nan   | 1      | 6      | 88    | 55     | 30.17   | 31.11   | 30.6901 | 13176580 | 0.028393  | 30.68 | 30.7  | 9566808 | 1      | 1       | 30.6901 | nan    | 20070531 | 0.025053  | 0.038932  | 0.036643  | 0.023123  | 0.021362  | 0.032549\n",
       "10107  | 20070629 | nan      | 11    | 3      | 7370  | 59491810 | MSFT   | MICROSOFT CORP | nan    | MSFT    | 511210 | Q        | A       | R       | 8048   | 10539  | 3     | 7370   | 59491810 | nan         | nan   | nan   | nan    | nan    | nan         | nan         | 0      | nan    | nan    | nan    | nan    | nan   | nan    | nan    | nan    | 2.00707e+07 | nan    | nan    | nan   | nan   | 1      | 6      | 88    | 55     | 29.47   | 30.715  | 29.47   | 11884314 | -0.039756 | 29.45 | 29.47 | 9380000 | 1      | 1       | 29.47   | nan    | 20070629 | -0.039756 | -0.014765 | -0.016128 | -0.007907 | -0.009857 | -0.017816\n",
       "10107  | 20070731 | nan      | 11    | 3      | 7370  | 59491810 | MSFT   | MICROSOFT CORP | nan    | MSFT    | 511210 | Q        | A       | R       | 8048   | 10539  | 3     | 7370   | 59491810 | nan         | nan   | nan   | nan    | nan    | nan         | nan         | 0      | nan    | nan    | nan    | nan    | nan   | nan    | nan    | nan    | nan         | nan    | nan    | nan   | nan   | 1      | 6      | 89    | 55     | 28.99   | 31.51   | 28.99   | 13008446 | -0.016288 | 28.98 | 28.99 | 9380000 | 1      | 1       | 28.99   | nan    | 20070731 | -0.016288 | -0.03176  | -0.032764 | -0.043537 | -0.044642 | -0.031982\n",
       "10107  | 20070831 | nan      | 11    | 3      | 7370  | 59491810 | MSFT   | MICROSOFT CORP | nan    | MSFT    | 511210 | Q        | A       | R       | 8048   | 10539  | 3     | 7370   | 59491810 | 2.00706e+07 | nan   | nan   | nan    | nan    | 2.00709e+07 | 2.00708e+07 | 0      | nan    | nan    | 1232   | 0.1    | 0     | 0      | nan    | nan    | 2.00709e+07 | nan    | nan    | nan   | nan   | 1      | 6      | 86    | 55     | 27.81   | 30      | 28.73   | 12397224 | -0.005519 | 28.68 | 28.69 | 9375492 | 1      | 1       | 28.73   | nan    | 20070831 | -0.008969 | 0.01163   | 0.009677  | -0.011712 | -0.013287 | 0.012864\n",
       "10107  | 20070928 | nan      | 11    | 3      | 7370  | 59491810 | MSFT   | MICROSOFT CORP | nan    | MSFT    | 511210 | Q        | A       | R       | 8048   | 10539  | 3     | 7370   | 59491810 | nan         | nan   | nan   | nan    | nan    | nan         | nan         | 0      | nan    | nan    | nan    | nan    | nan   | nan    | nan    | nan    | 2.0071e+07  | nan    | nan    | nan   | nan   | 1      | 6      | 87    | 55     | 28.4201 | 29.5599 | 29.46   | 11168623 | 0.025409  | 29.46 | 29.47 | 9355000 | 1      | 1       | 29.46   | nan    | 20070928 | 0.025409  | 0.040842  | 0.039325  | 0.025364  | 0.023661  | 0.035794\n",
       "10107  | 20071031 | nan      | 11    | 3      | 7370  | 59491810 | MSFT   | MICROSOFT CORP | nan    | MSFT    | 511210 | Q        | A       | R       | 8048   | 10539  | 3     | 7370   | 59491810 | nan         | nan   | nan   | nan    | nan    | nan         | nan         | 0      | nan    | nan    | nan    | nan    | nan   | nan    | nan    | nan    | 2.00712e+07 | nan    | nan    | nan   | nan   | 1      | 6      | 84    | 55     | 29.4525 | 36.81   | 36.81   | 17744802 | 0.249491  | 36.79 | 36.8  | 9355439 | 1      | 1       | 36.81   | nan    | 20071031 | 0.249491  | 0.025796  | 0.024655  | 0.017406  | 0.016144  | 0.014822\n",
       "... (134 rows omitted)"
      ]
     },
     "execution_count": 16,
     "metadata": {},
     "output_type": "execute_result"
    }
   ],
   "source": [
    "msft = Table.read_table('https://www.dropbox.com/s/46ypdrs5bicrr16/msft.csv?raw=1')\n",
    "msft"
   ]
  },
  {
   "cell_type": "markdown",
   "metadata": {},
   "source": [
    "#### Question 4\n",
    "Call the `select()` method on the Table `msft` to create a new Table containing only the `date` column."
   ]
  },
  {
   "cell_type": "code",
   "execution_count": null,
   "metadata": {},
   "outputs": [],
   "source": [
    "date_from_msft = msft.select('date')\n",
    "date_from_msft"
   ]
  },
  {
   "cell_type": "markdown",
   "metadata": {},
   "source": [
    "#### Question 5\n",
    "Finish the definition of the function `square()` below. It should return 'x' squared."
   ]
  },
  {
   "cell_type": "code",
   "execution_count": 7,
   "metadata": {},
   "outputs": [],
   "source": [
    "def square(x):\n",
    "    return x*x\n",
    "square(5)"
   ]
  },
  {
   "cell_type": "markdown",
   "metadata": {},
   "source": [
    "## Submission\n",
    "Once you're finished, select \"Save and Checkpoint\" in the File menu. Pay attention to the name of your notebook---it's to the right of the \"jupyter\" logo at the upper left-hand corner of the page. On your computer your notebook has a file extension .ipynb. Locate and submit it on Gradescope."
   ]
  },
  {
   "cell_type": "code",
   "execution_count": null,
   "metadata": {},
   "outputs": [],
   "source": []
  }
 ],
 "metadata": {
  "kernelspec": {
   "display_name": "Python 3 (ipykernel)",
   "language": "python",
   "name": "python3"
  },
  "language_info": {
   "codemirror_mode": {
    "name": "ipython",
    "version": 3
   },
   "file_extension": ".py",
   "mimetype": "text/x-python",
   "name": "python",
   "nbconvert_exporter": "python",
   "pygments_lexer": "ipython3",
   "version": "3.9.7"
  }
 },
 "nbformat": 4,
 "nbformat_minor": 4
}
