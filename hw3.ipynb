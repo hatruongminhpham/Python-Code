{
 "cells": [
  {
   "cell_type": "markdown",
   "metadata": {},
   "source": [
    "# Homework 3"
   ]
  },
  {
   "cell_type": "markdown",
   "metadata": {},
   "source": [
    "#### Instructions:\n",
    "- Please read these instructions as well as the questions carefully.\n",
    "- Your best resource is likely the official documentation of the datascience package: http://data8.org/datascience.\n",
    "- Feel free to use Excel to play with the data.\n",
    "- Please complete this notebook by filling in the cells provided. Before you begin, execute the following cell. Each time you start Jupyter Notebook, you will need to execute this cell.\n",
    "- Please be sure not to re-assign variables throughout the notebook. For example, if you use `max_price` in your answer to one question, do not re-assign it later on.\n",
    "- Please be sure not to re-define functions throughout the notebook. For example, if a question asks you to define `sharpe_ratio()`, the notebook that you submit should contain only one definition of that function."
   ]
  },
  {
   "cell_type": "code",
   "execution_count": 36,
   "metadata": {},
   "outputs": [],
   "source": [
    "# Don't change this cell; just run it.\n",
    "from datascience import *\n",
    "import numpy as np"
   ]
  },
  {
   "cell_type": "markdown",
   "metadata": {},
   "source": [
    "## A. Creating Arrays\n",
    "\n",
    "#### Question 1\n",
    "Make an array called `weird_numbers` containing the following numbers (in the given order):\n",
    "\n",
    "1. -2\n",
    "2. the sine of 1.2\n",
    "3. 3\n",
    "4. 5 to the power of the cosine of 1.2\n",
    "\n",
    "*Hint:* `sin` and `cos` are functions in the `math` module."
   ]
  },
  {
   "cell_type": "code",
   "execution_count": 24,
   "metadata": {},
   "outputs": [
    {
     "data": {
      "text/plain": [
       "[-2, 0.9320390859672263, 3, 1.7917491256752254]"
      ]
     },
     "execution_count": 24,
     "metadata": {},
     "output_type": "execute_result"
    }
   ],
   "source": [
    "import math\n",
    "\n",
    "weird_numbers = [-2, math.sin(1.2),3,5**math.cos(1.2)]\n",
    "weird_numbers"
   ]
  },
  {
   "cell_type": "markdown",
   "metadata": {},
   "source": [
    "## B. Indexing Arrays\n",
    "These exercises give you practice accessing individual elements of arrays. In Python (and in many programming languages), elements are accessed by *index* and the first element is the element at index 0.\n",
    "\n",
    "#### Question 1\n",
    "The cell below creates an array of some numbers. Set `third_element` to the third element of `some_numbers`."
   ]
  },
  {
   "cell_type": "code",
   "execution_count": 25,
   "metadata": {},
   "outputs": [
    {
     "data": {
      "text/plain": [
       "-6"
      ]
     },
     "execution_count": 25,
     "metadata": {},
     "output_type": "execute_result"
    }
   ],
   "source": [
    "some_numbers = make_array(-1, -3, -6, -10, -15)\n",
    "\n",
    "third_element = some_numbers[2]\n",
    "third_element"
   ]
  },
  {
   "cell_type": "markdown",
   "metadata": {},
   "source": [
    "#### Question 2\n",
    "The next cell creates a Table that displays some information about the elements of `some_numbers` and their order. Run the cell to see the partially-completed table, then fill in the missing information in the cell (the strings that are currently \"???\") to complete the table."
   ]
  },
  {
   "cell_type": "code",
   "execution_count": 26,
   "metadata": {},
   "outputs": [
    {
     "data": {
      "text/html": [
       "<table border=\"1\" class=\"dataframe\">\n",
       "    <thead>\n",
       "        <tr>\n",
       "            <th>English name for position</th> <th>Index</th> <th>Element</th>\n",
       "        </tr>\n",
       "    </thead>\n",
       "    <tbody>\n",
       "        <tr>\n",
       "            <td>first                    </td> <td>0    </td> <td>-1     </td>\n",
       "        </tr>\n",
       "        <tr>\n",
       "            <td>second                   </td> <td>1    </td> <td>-3     </td>\n",
       "        </tr>\n",
       "        <tr>\n",
       "            <td>third                    </td> <td>2    </td> <td>-6     </td>\n",
       "        </tr>\n",
       "        <tr>\n",
       "            <td>fourth                   </td> <td>3    </td> <td>-10    </td>\n",
       "        </tr>\n",
       "        <tr>\n",
       "            <td>fifth                    </td> <td>4    </td> <td>-15    </td>\n",
       "        </tr>\n",
       "    </tbody>\n",
       "</table>"
      ],
      "text/plain": [
       "English name for position | Index | Element\n",
       "first                     | 0     | -1\n",
       "second                    | 1     | -3\n",
       "third                     | 2     | -6\n",
       "fourth                    | 3     | -10\n",
       "fifth                     | 4     | -15"
      ]
     },
     "execution_count": 26,
     "metadata": {},
     "output_type": "execute_result"
    }
   ],
   "source": [
    "elements_of_some_numbers = Table().with_columns(\n",
    "    \"English name for position\", make_array(\"first\", \"second\", \"third\", \"fourth\", \"fifth\"),\n",
    "    \"Index\",                     make_array(0, 1, 2, 3, 4),\n",
    "    \"Element\",                   some_numbers)\n",
    "elements_of_some_numbers"
   ]
  },
  {
   "cell_type": "markdown",
   "metadata": {},
   "source": [
    "#### Question 3\n",
    "You'll sometimes want to find the *last* element of an array. Suppose an array has 142 elements. What is the index of its last element?"
   ]
  },
  {
   "cell_type": "code",
   "execution_count": 59,
   "metadata": {},
   "outputs": [],
   "source": [
    "index_of_last_element = len(np.arange(142))-1"
   ]
  },
  {
   "cell_type": "markdown",
   "metadata": {},
   "source": [
    "More often, you don't know the number of elements in an array, its *length*. For example, it might be a large dataset you found on the Internet. The function `len()` takes a single argument, an array, and returns the `len`gth of that array (an integer).\n",
    "\n",
    "#### Question 4\n",
    "The cell below loads an array called `msft_closing_prices`. The last element in that array is the most recent closing price of Microsoft in the sample. Assign that price to `most_recent_closing_price`."
   ]
  },
  {
   "cell_type": "code",
   "execution_count": 56,
   "metadata": {},
   "outputs": [
    {
     "data": {
      "text/plain": [
       "101.57"
      ]
     },
     "execution_count": 56,
     "metadata": {},
     "output_type": "execute_result"
    }
   ],
   "source": [
    "msft_closing_prices = Table.read_table(\"https://www.dropbox.com/s/46ypdrs5bicrr16/msft.csv?raw=1\").column('PRC')\n",
    "\n",
    "most_recent_closing_price = msft_closing_prices[-1]\n",
    "most_recent_closing_price"
   ]
  },
  {
   "cell_type": "markdown",
   "metadata": {},
   "source": [
    "## C. Basic Array Arithmetic\n",
    "\n",
    "#### Question 1\n",
    "Multiply the numbers 42, 4224, 42422424, and -250 by 157. For this question, **don't** use arrays."
   ]
  },
  {
   "cell_type": "code",
   "execution_count": 15,
   "metadata": {},
   "outputs": [
    {
     "name": "stdout",
     "output_type": "stream",
     "text": [
      "6594 663168 6660320568 -39250\n"
     ]
    }
   ],
   "source": [
    "first_product = 42 * 157\n",
    "second_product = 4224*157\n",
    "third_product = 42422424*157\n",
    "fourth_product = -250*157\n",
    "print(first_product, second_product, third_product, fourth_product)"
   ]
  },
  {
   "cell_type": "markdown",
   "metadata": {},
   "source": [
    "#### Question 2\n",
    "Now, do the same calculation, but using an array called `numbers` and only a single multiplication (`*`) operator. Store the 4 results in an array named `products`."
   ]
  },
  {
   "cell_type": "code",
   "execution_count": 76,
   "metadata": {},
   "outputs": [
    {
     "data": {
      "text/plain": [
       "array([      6594,     663168, 6660320568,     -39250])"
      ]
     },
     "execution_count": 76,
     "metadata": {},
     "output_type": "execute_result"
    }
   ],
   "source": [
    "numbers = make_array(42,4224,42422424,-250)\n",
    "products = numbers*157\n",
    "products"
   ]
  },
  {
   "cell_type": "markdown",
   "metadata": {},
   "source": [
    "#### Question 3\n",
    "Oops, we made a typo! Instead of 157, we wanted to multiply each number by 1577. Compute the fixed products in the cell below using array arithmetic. Notice that your job is really easy if you previously defined an array containing the 4 numbers."
   ]
  },
  {
   "cell_type": "code",
   "execution_count": 78,
   "metadata": {},
   "outputs": [
    {
     "data": {
      "text/plain": [
       "array([      66234,     6661248, 66900162648,     -394250])"
      ]
     },
     "execution_count": 78,
     "metadata": {},
     "output_type": "execute_result"
    }
   ],
   "source": [
    "fixed_products = numbers*1577\n",
    "fixed_products"
   ]
  },
  {
   "cell_type": "markdown",
   "metadata": {},
   "source": [
    "#### Question 4\n",
    "We've loaded an array of (Microsoft) closing prices and an array of shares outstanding in the next cell. Compute the market capitalization for each month. That is, compute the product between each monthly closing price and the corresponding monthly shares outstanding."
   ]
  },
  {
   "cell_type": "code",
   "execution_count": 19,
   "metadata": {},
   "outputs": [
    {
     "data": {
      "text/plain": [
       "array([3.02190810e+08, 2.75849485e+08, 2.66771640e+08, 2.86430232e+08,\n",
       "       2.93606294e+08, 2.76428600e+08, 2.71926200e+08, 2.69357885e+08,\n",
       "       2.75598300e+08, 3.44373710e+08, 3.14342750e+08, 3.32112400e+08,\n",
       "       3.03407548e+08, 2.53148925e+08, 2.64217800e+08, 2.65615116e+08,\n",
       "       2.63752458e+08, 2.51744010e+08, 2.34831136e+08, 2.49165696e+08,\n",
       "       2.39596130e+08, 1.98638145e+08, 1.79868486e+08, 1.72802160e+08,\n",
       "       1.52028627e+08, 1.43582592e+08, 1.63456260e+08, 1.80308327e+08,\n",
       "       1.85915151e+08, 2.11743160e+08, 2.09579052e+08, 2.19648114e+08,\n",
       "       2.28908000e+08, 2.46218025e+08, 2.61134949e+08, 2.68559280e+08,\n",
       "       2.47151591e+08, 2.51449117e+08, 2.56617075e+08, 2.67603824e+08,\n",
       "       2.26107046e+08, 1.99118577e+08, 2.23348564e+08, 2.03055950e+08,\n",
       "       2.09683380e+08, 2.28133021e+08, 2.16091122e+08, 2.34527730e+08,\n",
       "       2.32956041e+08, 2.23335314e+08, 2.14063090e+08, 2.18577321e+08,\n",
       "       2.10903503e+08, 2.17776000e+08, 2.29564488e+08, 2.22861876e+08,\n",
       "       2.09324900e+08, 2.24016407e+08, 2.15183616e+08, 2.17824415e+08,\n",
       "       2.47779468e+08, 2.66323072e+08, 2.70942000e+08, 2.68953725e+08,\n",
       "       2.45221279e+08, 2.56374790e+08, 2.47058710e+08, 2.58376296e+08,\n",
       "       2.50638720e+08, 2.40205825e+08, 2.24004136e+08, 2.23667028e+08,\n",
       "       2.29927925e+08, 2.32859611e+08, 2.38823145e+08, 2.76421642e+08,\n",
       "       2.91453634e+08, 2.87690760e+08, 2.65225799e+08, 2.78220530e+08,\n",
       "       2.77754880e+08, 2.95559807e+08, 3.18308020e+08, 3.10503000e+08,\n",
       "       3.14099396e+08, 3.18000736e+08, 3.38577400e+08, 3.33720645e+08,\n",
       "       3.38181267e+08, 3.43566300e+08, 3.55631883e+08, 3.74336340e+08,\n",
       "       3.82702913e+08, 3.87001948e+08, 3.94090802e+08, 3.81726100e+08,\n",
       "       3.31432914e+08, 3.59735972e+08, 3.29834015e+08, 3.93476928e+08,\n",
       "       3.79077484e+08, 3.54392050e+08, 3.73505713e+08, 3.48072133e+08,\n",
       "       3.53460360e+08, 4.20483740e+08, 4.34143072e+08, 4.39679000e+08,\n",
       "       4.35723502e+08, 4.02425337e+08, 4.34660100e+08, 3.92001489e+08,\n",
       "       4.16604751e+08, 3.99535360e+08, 4.41679750e+08, 4.47757912e+08,\n",
       "       4.48112851e+08, 4.65899032e+08, 4.68542651e+08, 4.80342200e+08,\n",
       "       4.99584815e+08, 4.94407369e+08, 5.08636780e+08, 5.28546457e+08,\n",
       "       5.39200768e+08, 5.31312440e+08, 5.59953139e+08, 5.75896784e+08,\n",
       "       5.74722604e+08, 6.41699596e+08, 6.49337040e+08, 6.59085700e+08,\n",
       "       7.31557333e+08, 7.22009590e+08, 7.01866300e+08, 7.18532677e+08,\n",
       "       7.59407290e+08, 7.57028970e+08, 8.13444459e+08, 8.61370816e+08,\n",
       "       8.78361600e+08, 8.19896951e+08, 8.51215925e+08, 7.79673564e+08])"
      ]
     },
     "execution_count": 19,
     "metadata": {},
     "output_type": "execute_result"
    }
   ],
   "source": [
    "msft = Table.read_table(\"https://www.dropbox.com/s/46ypdrs5bicrr16/msft.csv?raw=1\")\n",
    "msft_closing_prices = msft.column('PRC')\n",
    "msft_shares_outstanding = msft.column('SHROUT')\n",
    "\n",
    "market_capitalizations = (msft_closing_prices*msft_shares_outstanding)\n",
    "market_capitalizations"
   ]
  },
  {
   "cell_type": "markdown",
   "metadata": {},
   "source": [
    "## D. Tables\n",
    "\n",
    "#### Question 1\n",
    "Suppose you have 4 apples, 3 oranges, and 3 pineapples. Create a Table that contains this information. It should have two columns: \"fruit name\" and \"count\". Give it the name `fruits`. The name of each fruit should be lower-case and singular, like \"strawberry\"."
   ]
  },
  {
   "cell_type": "code",
   "execution_count": 82,
   "metadata": {},
   "outputs": [
    {
     "data": {
      "text/html": [
       "<table border=\"1\" class=\"dataframe\">\n",
       "    <thead>\n",
       "        <tr>\n",
       "            <th>fruit name</th> <th>count</th>\n",
       "        </tr>\n",
       "    </thead>\n",
       "    <tbody>\n",
       "        <tr>\n",
       "            <td>apple     </td> <td>4    </td>\n",
       "        </tr>\n",
       "        <tr>\n",
       "            <td>orange    </td> <td>3    </td>\n",
       "        </tr>\n",
       "        <tr>\n",
       "            <td>pineapple </td> <td>3    </td>\n",
       "        </tr>\n",
       "    </tbody>\n",
       "</table>"
      ],
      "text/plain": [
       "fruit name | count\n",
       "apple      | 4\n",
       "orange     | 3\n",
       "pineapple  | 3"
      ]
     },
     "execution_count": 82,
     "metadata": {},
     "output_type": "execute_result"
    }
   ],
   "source": [
    "# Our solution uses 1 statement split over 3 lines.\n",
    "fruits = Table().with_columns(\"fruit name\", make_array(\"apple\", \"orange\", \"pineapple\"),\n",
    "                            \"count\", make_array(4,3,3))\n",
    "fruits"
   ]
  },
  {
   "cell_type": "markdown",
   "metadata": {},
   "source": [
    "## Submission\n",
    "Once you're finished, select \"Save and Checkpoint\" in the File menu. Pay attention to the name of your notebook---it's to the right of the \"jupyter\" logo at the upper left-hand corner of the page. On your computer your notebook has a file extension .ipynb. Locate and submit it on Gradescope."
   ]
  }
 ],
 "metadata": {
  "kernelspec": {
   "display_name": "Python 3 (ipykernel)",
   "language": "python",
   "name": "python3"
  },
  "language_info": {
   "codemirror_mode": {
    "name": "ipython",
    "version": 3
   },
   "file_extension": ".py",
   "mimetype": "text/x-python",
   "name": "python",
   "nbconvert_exporter": "python",
   "pygments_lexer": "ipython3",
   "version": "3.9.7"
  }
 },
 "nbformat": 4,
 "nbformat_minor": 1
}
